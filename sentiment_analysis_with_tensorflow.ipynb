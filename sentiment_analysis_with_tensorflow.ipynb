{
  "nbformat": 4,
  "nbformat_minor": 0,
  "metadata": {
    "colab": {
      "name": "sentiment analysis with tensorflow.ipynb",
      "provenance": [],
      "collapsed_sections": [],
      "authorship_tag": "ABX9TyOEq3HT7W6nUc66kVzxiUmK",
      "include_colab_link": true
    },
    "kernelspec": {
      "name": "python3",
      "display_name": "Python 3"
    },
    "language_info": {
      "name": "python"
    },
    "accelerator": "GPU"
  },
  "cells": [
    {
      "cell_type": "markdown",
      "metadata": {
        "id": "view-in-github",
        "colab_type": "text"
      },
      "source": [
        "<a href=\"https://colab.research.google.com/github/Amit-Padye/Natural-Langauge-Processing/blob/main/sentiment_analysis_with_tensorflow.ipynb\" target=\"_parent\"><img src=\"https://colab.research.google.com/assets/colab-badge.svg\" alt=\"Open In Colab\"/></a>"
      ]
    },
    {
      "cell_type": "code",
      "metadata": {
        "id": "4W2A9oqG7wRw",
        "colab": {
          "base_uri": "https://localhost:8080/"
        },
        "outputId": "6e1902fd-d7e8-4109-9e77-340a47da73a0"
      },
      "source": [
        "# Check for GPU\n",
        "!nvidia-smi -L"
      ],
      "execution_count": 1,
      "outputs": [
        {
          "output_type": "stream",
          "name": "stdout",
          "text": [
            "GPU 0: Tesla K80 (UUID: GPU-8a91d857-38cb-8276-8f03-1d37e899116c)\n"
          ]
        }
      ]
    },
    {
      "cell_type": "code",
      "metadata": {
        "colab": {
          "base_uri": "https://localhost:8080/"
        },
        "id": "qRmUI2UyLUEM",
        "outputId": "c98bc63f-a586-469b-e053-daceeda9a7c1"
      },
      "source": [
        "# Download helper functions script\n",
        "!wget https://raw.githubusercontent.com/mrdbourke/tensorflow-deep-learning/main/extras/helper_functions.py"
      ],
      "execution_count": 2,
      "outputs": [
        {
          "output_type": "stream",
          "name": "stdout",
          "text": [
            "--2021-10-17 09:00:12--  https://raw.githubusercontent.com/mrdbourke/tensorflow-deep-learning/main/extras/helper_functions.py\n",
            "Resolving raw.githubusercontent.com (raw.githubusercontent.com)... 185.199.108.133, 185.199.109.133, 185.199.110.133, ...\n",
            "Connecting to raw.githubusercontent.com (raw.githubusercontent.com)|185.199.108.133|:443... connected.\n",
            "HTTP request sent, awaiting response... 200 OK\n",
            "Length: 10246 (10K) [text/plain]\n",
            "Saving to: ‘helper_functions.py’\n",
            "\n",
            "helper_functions.py 100%[===================>]  10.01K  --.-KB/s    in 0s      \n",
            "\n",
            "2021-10-17 09:00:12 (46.2 MB/s) - ‘helper_functions.py’ saved [10246/10246]\n",
            "\n"
          ]
        }
      ]
    },
    {
      "cell_type": "code",
      "metadata": {
        "id": "PJC4LnW8LT8C"
      },
      "source": [
        "# Import series of helper functions for the notebook\n",
        "from helper_functions import unzip_data, create_tensorboard_callback, plot_loss_curves, compare_historys"
      ],
      "execution_count": 3,
      "outputs": []
    },
    {
      "cell_type": "code",
      "metadata": {
        "colab": {
          "base_uri": "https://localhost:8080/"
        },
        "id": "Y-rojD2fLT0L",
        "outputId": "ebf2e42b-a10b-42da-d0a0-0e9cc4aa6d00"
      },
      "source": [
        "# Download data (same as from Kaggle)\n",
        "!wget \"https://storage.googleapis.com/ztm_tf_course/nlp_getting_started.zip\"\n",
        "\n",
        "# Unzip data\n",
        "unzip_data(\"nlp_getting_started.zip\")"
      ],
      "execution_count": 4,
      "outputs": [
        {
          "output_type": "stream",
          "name": "stdout",
          "text": [
            "--2021-10-17 09:00:15--  https://storage.googleapis.com/ztm_tf_course/nlp_getting_started.zip\n",
            "Resolving storage.googleapis.com (storage.googleapis.com)... 173.194.197.128, 64.233.191.128, 209.85.145.128, ...\n",
            "Connecting to storage.googleapis.com (storage.googleapis.com)|173.194.197.128|:443... connected.\n",
            "HTTP request sent, awaiting response... 200 OK\n",
            "Length: 607343 (593K) [application/zip]\n",
            "Saving to: ‘nlp_getting_started.zip’\n",
            "\n",
            "\rnlp_getting_started   0%[                    ]       0  --.-KB/s               \rnlp_getting_started 100%[===================>] 593.11K  --.-KB/s    in 0.008s  \n",
            "\n",
            "2021-10-17 09:00:15 (75.3 MB/s) - ‘nlp_getting_started.zip’ saved [607343/607343]\n",
            "\n"
          ]
        }
      ]
    },
    {
      "cell_type": "code",
      "metadata": {
        "colab": {
          "base_uri": "https://localhost:8080/",
          "height": 202
        },
        "id": "kUhGt3ERLTq8",
        "outputId": "eacf50e7-4408-445d-cbb9-8dc9d54e3aa5"
      },
      "source": [
        "# Turn .csv files into pandas DataFrame's\n",
        "import pandas as pd\n",
        "train_df = pd.read_csv(\"train.csv\")\n",
        "test_df = pd.read_csv(\"test.csv\")\n",
        "train_df.head()"
      ],
      "execution_count": 5,
      "outputs": [
        {
          "output_type": "execute_result",
          "data": {
            "text/html": [
              "<div>\n",
              "<style scoped>\n",
              "    .dataframe tbody tr th:only-of-type {\n",
              "        vertical-align: middle;\n",
              "    }\n",
              "\n",
              "    .dataframe tbody tr th {\n",
              "        vertical-align: top;\n",
              "    }\n",
              "\n",
              "    .dataframe thead th {\n",
              "        text-align: right;\n",
              "    }\n",
              "</style>\n",
              "<table border=\"1\" class=\"dataframe\">\n",
              "  <thead>\n",
              "    <tr style=\"text-align: right;\">\n",
              "      <th></th>\n",
              "      <th>id</th>\n",
              "      <th>keyword</th>\n",
              "      <th>location</th>\n",
              "      <th>text</th>\n",
              "      <th>target</th>\n",
              "    </tr>\n",
              "  </thead>\n",
              "  <tbody>\n",
              "    <tr>\n",
              "      <th>0</th>\n",
              "      <td>1</td>\n",
              "      <td>NaN</td>\n",
              "      <td>NaN</td>\n",
              "      <td>Our Deeds are the Reason of this #earthquake M...</td>\n",
              "      <td>1</td>\n",
              "    </tr>\n",
              "    <tr>\n",
              "      <th>1</th>\n",
              "      <td>4</td>\n",
              "      <td>NaN</td>\n",
              "      <td>NaN</td>\n",
              "      <td>Forest fire near La Ronge Sask. Canada</td>\n",
              "      <td>1</td>\n",
              "    </tr>\n",
              "    <tr>\n",
              "      <th>2</th>\n",
              "      <td>5</td>\n",
              "      <td>NaN</td>\n",
              "      <td>NaN</td>\n",
              "      <td>All residents asked to 'shelter in place' are ...</td>\n",
              "      <td>1</td>\n",
              "    </tr>\n",
              "    <tr>\n",
              "      <th>3</th>\n",
              "      <td>6</td>\n",
              "      <td>NaN</td>\n",
              "      <td>NaN</td>\n",
              "      <td>13,000 people receive #wildfires evacuation or...</td>\n",
              "      <td>1</td>\n",
              "    </tr>\n",
              "    <tr>\n",
              "      <th>4</th>\n",
              "      <td>7</td>\n",
              "      <td>NaN</td>\n",
              "      <td>NaN</td>\n",
              "      <td>Just got sent this photo from Ruby #Alaska as ...</td>\n",
              "      <td>1</td>\n",
              "    </tr>\n",
              "  </tbody>\n",
              "</table>\n",
              "</div>"
            ],
            "text/plain": [
              "   id keyword  ...                                               text target\n",
              "0   1     NaN  ...  Our Deeds are the Reason of this #earthquake M...      1\n",
              "1   4     NaN  ...             Forest fire near La Ronge Sask. Canada      1\n",
              "2   5     NaN  ...  All residents asked to 'shelter in place' are ...      1\n",
              "3   6     NaN  ...  13,000 people receive #wildfires evacuation or...      1\n",
              "4   7     NaN  ...  Just got sent this photo from Ruby #Alaska as ...      1\n",
              "\n",
              "[5 rows x 5 columns]"
            ]
          },
          "metadata": {},
          "execution_count": 5
        }
      ]
    },
    {
      "cell_type": "code",
      "metadata": {
        "colab": {
          "base_uri": "https://localhost:8080/",
          "height": 202
        },
        "id": "m2g0fSIqLTTf",
        "outputId": "ec48d8eb-64e2-4986-fab0-b0b4135bd5c9"
      },
      "source": [
        "test_df.head()"
      ],
      "execution_count": 6,
      "outputs": [
        {
          "output_type": "execute_result",
          "data": {
            "text/html": [
              "<div>\n",
              "<style scoped>\n",
              "    .dataframe tbody tr th:only-of-type {\n",
              "        vertical-align: middle;\n",
              "    }\n",
              "\n",
              "    .dataframe tbody tr th {\n",
              "        vertical-align: top;\n",
              "    }\n",
              "\n",
              "    .dataframe thead th {\n",
              "        text-align: right;\n",
              "    }\n",
              "</style>\n",
              "<table border=\"1\" class=\"dataframe\">\n",
              "  <thead>\n",
              "    <tr style=\"text-align: right;\">\n",
              "      <th></th>\n",
              "      <th>id</th>\n",
              "      <th>keyword</th>\n",
              "      <th>location</th>\n",
              "      <th>text</th>\n",
              "    </tr>\n",
              "  </thead>\n",
              "  <tbody>\n",
              "    <tr>\n",
              "      <th>0</th>\n",
              "      <td>0</td>\n",
              "      <td>NaN</td>\n",
              "      <td>NaN</td>\n",
              "      <td>Just happened a terrible car crash</td>\n",
              "    </tr>\n",
              "    <tr>\n",
              "      <th>1</th>\n",
              "      <td>2</td>\n",
              "      <td>NaN</td>\n",
              "      <td>NaN</td>\n",
              "      <td>Heard about #earthquake is different cities, s...</td>\n",
              "    </tr>\n",
              "    <tr>\n",
              "      <th>2</th>\n",
              "      <td>3</td>\n",
              "      <td>NaN</td>\n",
              "      <td>NaN</td>\n",
              "      <td>there is a forest fire at spot pond, geese are...</td>\n",
              "    </tr>\n",
              "    <tr>\n",
              "      <th>3</th>\n",
              "      <td>9</td>\n",
              "      <td>NaN</td>\n",
              "      <td>NaN</td>\n",
              "      <td>Apocalypse lighting. #Spokane #wildfires</td>\n",
              "    </tr>\n",
              "    <tr>\n",
              "      <th>4</th>\n",
              "      <td>11</td>\n",
              "      <td>NaN</td>\n",
              "      <td>NaN</td>\n",
              "      <td>Typhoon Soudelor kills 28 in China and Taiwan</td>\n",
              "    </tr>\n",
              "  </tbody>\n",
              "</table>\n",
              "</div>"
            ],
            "text/plain": [
              "   id keyword location                                               text\n",
              "0   0     NaN      NaN                 Just happened a terrible car crash\n",
              "1   2     NaN      NaN  Heard about #earthquake is different cities, s...\n",
              "2   3     NaN      NaN  there is a forest fire at spot pond, geese are...\n",
              "3   9     NaN      NaN           Apocalypse lighting. #Spokane #wildfires\n",
              "4  11     NaN      NaN      Typhoon Soudelor kills 28 in China and Taiwan"
            ]
          },
          "metadata": {},
          "execution_count": 6
        }
      ]
    },
    {
      "cell_type": "code",
      "metadata": {
        "colab": {
          "base_uri": "https://localhost:8080/"
        },
        "id": "7qPON75pMLJy",
        "outputId": "e4160d5e-d61f-45a0-9f7d-4061768fa062"
      },
      "source": [
        "# How many examples of each class?\n",
        "train_df.target.value_counts()"
      ],
      "execution_count": 7,
      "outputs": [
        {
          "output_type": "execute_result",
          "data": {
            "text/plain": [
              "0    4342\n",
              "1    3271\n",
              "Name: target, dtype: int64"
            ]
          },
          "metadata": {},
          "execution_count": 7
        }
      ]
    },
    {
      "cell_type": "code",
      "metadata": {
        "colab": {
          "base_uri": "https://localhost:8080/",
          "height": 202
        },
        "id": "PE90KI6VNL3w",
        "outputId": "ec37e257-fa23-46ca-bf82-aa1add594c53"
      },
      "source": [
        "# Shuffle training dataframe\n",
        "train_df_shuffled = train_df.sample(frac=1, random_state=42) # shuffle with random_state=42 for reproducibility\n",
        "train_df_shuffled.head()"
      ],
      "execution_count": 8,
      "outputs": [
        {
          "output_type": "execute_result",
          "data": {
            "text/html": [
              "<div>\n",
              "<style scoped>\n",
              "    .dataframe tbody tr th:only-of-type {\n",
              "        vertical-align: middle;\n",
              "    }\n",
              "\n",
              "    .dataframe tbody tr th {\n",
              "        vertical-align: top;\n",
              "    }\n",
              "\n",
              "    .dataframe thead th {\n",
              "        text-align: right;\n",
              "    }\n",
              "</style>\n",
              "<table border=\"1\" class=\"dataframe\">\n",
              "  <thead>\n",
              "    <tr style=\"text-align: right;\">\n",
              "      <th></th>\n",
              "      <th>id</th>\n",
              "      <th>keyword</th>\n",
              "      <th>location</th>\n",
              "      <th>text</th>\n",
              "      <th>target</th>\n",
              "    </tr>\n",
              "  </thead>\n",
              "  <tbody>\n",
              "    <tr>\n",
              "      <th>2644</th>\n",
              "      <td>3796</td>\n",
              "      <td>destruction</td>\n",
              "      <td>NaN</td>\n",
              "      <td>So you have a new weapon that can cause un-ima...</td>\n",
              "      <td>1</td>\n",
              "    </tr>\n",
              "    <tr>\n",
              "      <th>2227</th>\n",
              "      <td>3185</td>\n",
              "      <td>deluge</td>\n",
              "      <td>NaN</td>\n",
              "      <td>The f$&amp;amp;@ing things I do for #GISHWHES Just...</td>\n",
              "      <td>0</td>\n",
              "    </tr>\n",
              "    <tr>\n",
              "      <th>5448</th>\n",
              "      <td>7769</td>\n",
              "      <td>police</td>\n",
              "      <td>UK</td>\n",
              "      <td>DT @georgegalloway: RT @Galloway4Mayor: ÛÏThe...</td>\n",
              "      <td>1</td>\n",
              "    </tr>\n",
              "    <tr>\n",
              "      <th>132</th>\n",
              "      <td>191</td>\n",
              "      <td>aftershock</td>\n",
              "      <td>NaN</td>\n",
              "      <td>Aftershock back to school kick off was great. ...</td>\n",
              "      <td>0</td>\n",
              "    </tr>\n",
              "    <tr>\n",
              "      <th>6845</th>\n",
              "      <td>9810</td>\n",
              "      <td>trauma</td>\n",
              "      <td>Montgomery County, MD</td>\n",
              "      <td>in response to trauma Children of Addicts deve...</td>\n",
              "      <td>0</td>\n",
              "    </tr>\n",
              "  </tbody>\n",
              "</table>\n",
              "</div>"
            ],
            "text/plain": [
              "        id  ... target\n",
              "2644  3796  ...      1\n",
              "2227  3185  ...      0\n",
              "5448  7769  ...      1\n",
              "132    191  ...      0\n",
              "6845  9810  ...      0\n",
              "\n",
              "[5 rows x 5 columns]"
            ]
          },
          "metadata": {},
          "execution_count": 8
        }
      ]
    },
    {
      "cell_type": "code",
      "metadata": {
        "colab": {
          "base_uri": "https://localhost:8080/"
        },
        "id": "l0F7_VHdMoBj",
        "outputId": "d78355cf-e44f-4c86-a684-a98bb68743f8"
      },
      "source": [
        "import random\n",
        "random_index = random.randint(0, len(train_df)-5) # create random indexes not higher than the total number of samples\n",
        "for row in train_df_shuffled[[\"text\", \"target\"]][random_index:random_index+5].itertuples():\n",
        "  _, text, target = row\n",
        "  print(_, text, target)\n",
        "  print(f\"Target: {target}\", \"(real disaster)\" if target > 0 else \"(not real disaster)\")\n",
        "  print(f\"Text:\\n{text}\\n\")\n",
        "  print(\"---\\n\")"
      ],
      "execution_count": 9,
      "outputs": [
        {
          "output_type": "stream",
          "name": "stdout",
          "text": [
            "1061 the_af comments on 'New evidence of Japan's effort to build atom bomb at the end of WWII' - http://t.co/hcTxghR2Yf 1\n",
            "Target: 1 (real disaster)\n",
            "Text:\n",
            "the_af comments on 'New evidence of Japan's effort to build atom bomb at the end of WWII' - http://t.co/hcTxghR2Yf\n",
            "\n",
            "---\n",
            "\n",
            "3169 4 Printable Emergency Plan Templates\n",
            "http://t.co/nAex0Q1Ax0 0\n",
            "Target: 0 (not real disaster)\n",
            "Text:\n",
            "4 Printable Emergency Plan Templates\n",
            "http://t.co/nAex0Q1Ax0\n",
            "\n",
            "---\n",
            "\n",
            "5335 World Class Tgirl Ass 02 - Scene 4 - Pandemonium http://t.co/iwCu3DgI1a 0\n",
            "Target: 0 (not real disaster)\n",
            "Text:\n",
            "World Class Tgirl Ass 02 - Scene 4 - Pandemonium http://t.co/iwCu3DgI1a\n",
            "\n",
            "---\n",
            "\n",
            "1197 Mmmmmm I'm burning.... I'm burning buildings I'm building.... Oooooohhhh oooh ooh... 1\n",
            "Target: 1 (real disaster)\n",
            "Text:\n",
            "Mmmmmm I'm burning.... I'm burning buildings I'm building.... Oooooohhhh oooh ooh...\n",
            "\n",
            "---\n",
            "\n",
            "447 Credit to @pfannebeckers for inspiring me to rediscover this fantabulous #tbt http://t.co/wMHy47xkiL 0\n",
            "Target: 0 (not real disaster)\n",
            "Text:\n",
            "Credit to @pfannebeckers for inspiring me to rediscover this fantabulous #tbt http://t.co/wMHy47xkiL\n",
            "\n",
            "---\n",
            "\n"
          ]
        }
      ]
    },
    {
      "cell_type": "code",
      "metadata": {
        "colab": {
          "base_uri": "https://localhost:8080/"
        },
        "id": "khx7wb7DNdrx",
        "outputId": "27453aaa-29e6-4e96-9897-f3277246a06e"
      },
      "source": [
        "random_index"
      ],
      "execution_count": 10,
      "outputs": [
        {
          "output_type": "execute_result",
          "data": {
            "text/plain": [
              "982"
            ]
          },
          "metadata": {},
          "execution_count": 10
        }
      ]
    },
    {
      "cell_type": "code",
      "metadata": {
        "colab": {
          "base_uri": "https://localhost:8080/"
        },
        "id": "LD9bHe4DNkPS",
        "outputId": "26b9dc29-c3a2-4008-ce47-962aae29dd08"
      },
      "source": [
        " train_df_shuffled[[\"text\", \"target\"]][random_index:random_index+5].itertuples()"
      ],
      "execution_count": 11,
      "outputs": [
        {
          "output_type": "execute_result",
          "data": {
            "text/plain": [
              "<map at 0x7f4138dfb8d0>"
            ]
          },
          "metadata": {},
          "execution_count": 11
        }
      ]
    },
    {
      "cell_type": "code",
      "metadata": {
        "id": "n5v6xiEJNnyh"
      },
      "source": [
        "from sklearn.model_selection import train_test_split\n",
        "\n",
        "# Use train_test_split to split training data into training and validation sets\n",
        "train_sentences, val_sentences, train_labels, val_labels = train_test_split(train_df_shuffled[\"text\"].to_numpy(),\n",
        "                                                                            train_df_shuffled[\"target\"].to_numpy(),\n",
        "                                                                            test_size=0.1, # dedicate 10% of samples to validation set\n",
        "                                                                            random_state=42) # random state for reproducibility"
      ],
      "execution_count": 12,
      "outputs": []
    },
    {
      "cell_type": "code",
      "metadata": {
        "colab": {
          "base_uri": "https://localhost:8080/"
        },
        "id": "Bkj9SQpeOml2",
        "outputId": "9c53c7c1-0e43-4633-9459-85dbc9f96514"
      },
      "source": [
        "train_sentences"
      ],
      "execution_count": 13,
      "outputs": [
        {
          "output_type": "execute_result",
          "data": {
            "text/plain": [
              "array(['@mogacola @zamtriossu i screamed after hitting tweet',\n",
              "       'Imagine getting flattened by Kurt Zouma',\n",
              "       '@Gurmeetramrahim #MSGDoing111WelfareWorks Green S welfare force ke appx 65000 members har time disaster victim ki help ke liye tyar hai....',\n",
              "       ...,\n",
              "       'Near them on the sand half sunk a shattered visage lies... http://t.co/0kCCG1BT06',\n",
              "       \"kesabaran membuahkan hasil indah pada saat tepat! life isn't about waiting for the storm to pass it's about learning to dance in the rain.\",\n",
              "       \"@ScottDPierce @billharris_tv @HarrisGle @Beezersun I'm forfeiting this years fantasy football pool out of fear I may win n get my ass kicked\"],\n",
              "      dtype=object)"
            ]
          },
          "metadata": {},
          "execution_count": 13
        }
      ]
    },
    {
      "cell_type": "code",
      "metadata": {
        "colab": {
          "base_uri": "https://localhost:8080/"
        },
        "id": "EOr_NU6ZOq7i",
        "outputId": "21f7bc66-5970-4bd0-f9bb-f1b964d6f3b6"
      },
      "source": [
        "train_labels"
      ],
      "execution_count": 14,
      "outputs": [
        {
          "output_type": "execute_result",
          "data": {
            "text/plain": [
              "array([0, 0, 1, ..., 1, 1, 0])"
            ]
          },
          "metadata": {},
          "execution_count": 14
        }
      ]
    },
    {
      "cell_type": "code",
      "metadata": {
        "colab": {
          "base_uri": "https://localhost:8080/"
        },
        "id": "WCqWerdFOuTt",
        "outputId": "2c14bd9d-5a81-48b3-e047-6a2ac760fb0e"
      },
      "source": [
        "# Check the lengths\n",
        "len(train_sentences), len(train_labels), len(val_sentences), len(val_labels)"
      ],
      "execution_count": 15,
      "outputs": [
        {
          "output_type": "execute_result",
          "data": {
            "text/plain": [
              "(6851, 6851, 762, 762)"
            ]
          },
          "metadata": {},
          "execution_count": 15
        }
      ]
    },
    {
      "cell_type": "code",
      "metadata": {
        "colab": {
          "base_uri": "https://localhost:8080/"
        },
        "id": "0o5bqdX1O3Rm",
        "outputId": "5effa151-0948-48b8-90cb-961a7b06a7dd"
      },
      "source": [
        "# View the first 10 training sentences and their labels\n",
        "train_sentences[:10], train_labels[:10]"
      ],
      "execution_count": 16,
      "outputs": [
        {
          "output_type": "execute_result",
          "data": {
            "text/plain": [
              "(array(['@mogacola @zamtriossu i screamed after hitting tweet',\n",
              "        'Imagine getting flattened by Kurt Zouma',\n",
              "        '@Gurmeetramrahim #MSGDoing111WelfareWorks Green S welfare force ke appx 65000 members har time disaster victim ki help ke liye tyar hai....',\n",
              "        \"@shakjn @C7 @Magnums im shaking in fear he's gonna hack the planet\",\n",
              "        'Somehow find you and I collide http://t.co/Ee8RpOahPk',\n",
              "        '@EvaHanderek @MarleyKnysh great times until the bus driver held us hostage in the mall parking lot lmfao',\n",
              "        'destroy the free fandom honestly',\n",
              "        'Weapons stolen from National Guard Armory in New Albany still missing #Gunsense http://t.co/lKNU8902JE',\n",
              "        '@wfaaweather Pete when will the heat wave pass? Is it really going to be mid month? Frisco Boy Scouts have a canoe trip in Okla.',\n",
              "        'Patient-reported outcomes in long-term survivors of metastatic colorectal cancer - British Journal of Surgery http://t.co/5Yl4DC1Tqt'],\n",
              "       dtype=object), array([0, 0, 1, 0, 0, 1, 1, 0, 1, 1]))"
            ]
          },
          "metadata": {},
          "execution_count": 16
        }
      ]
    },
    {
      "cell_type": "code",
      "metadata": {
        "id": "Yz6n30zFO8J-"
      },
      "source": [
        "import tensorflow as tf\n",
        "from tensorflow.keras.layers.experimental.preprocessing import TextVectorization\n",
        "# Note: in TensorFlow 2.6+, you no longer need \"layers.experimental.preprocessing\"\n",
        "# you can use: \"tf.keras.layers.TextVectorization\", see https://github.com/tensorflow/tensorflow/releases/tag/v2.6.0 for more\n",
        "\n",
        "# Use the default TextVectorization variables\n",
        "text_vectorizer = TextVectorization(max_tokens=None, # how many words in the vocabulary (all of the different words in your text)\n",
        "                                    standardize=\"lower_and_strip_punctuation\", # how to process text\n",
        "                                    split=\"whitespace\", # how to split tokens\n",
        "                                    ngrams=None, # create groups of n-words?\n",
        "                                    output_mode=\"int\", # how to map tokens to numbers\n",
        "                                    output_sequence_length=None) # how long should the output sequence of tokens be?\n",
        "                                    # pad_to_max_tokens=True) # Not valid if using max_tokens=None"
      ],
      "execution_count": 17,
      "outputs": []
    },
    {
      "cell_type": "code",
      "metadata": {
        "colab": {
          "base_uri": "https://localhost:8080/"
        },
        "id": "ktSQzFsegvuG",
        "outputId": "05b45529-23d5-4270-cfc2-48300e523d28"
      },
      "source": [
        "# Find average number of tokens (words) in training Tweets\n",
        "round(sum([len(i.split()) for i in train_sentences])/len(train_sentences))"
      ],
      "execution_count": 18,
      "outputs": [
        {
          "output_type": "execute_result",
          "data": {
            "text/plain": [
              "15"
            ]
          },
          "metadata": {},
          "execution_count": 18
        }
      ]
    },
    {
      "cell_type": "code",
      "metadata": {
        "id": "S_N1OE14gvpj"
      },
      "source": [
        "# Setup text vectorization with custom variables\n",
        "max_vocab_length = 10000 # max number of words to have in our vocabulary\n",
        "max_length = 15 # max length our sequences will be (e.g. how many words from a Tweet does our model see?)\n",
        "\n",
        "text_vectorizer = TextVectorization(max_tokens=max_vocab_length,\n",
        "                                    output_mode=\"int\",\n",
        "                                    output_sequence_length=max_length)"
      ],
      "execution_count": 19,
      "outputs": []
    },
    {
      "cell_type": "code",
      "metadata": {
        "id": "6y2PJAkQgvjJ"
      },
      "source": [
        "\n",
        "# Fit the text vectorizer to the training text\n",
        "text_vectorizer.adapt(train_sentences)"
      ],
      "execution_count": 20,
      "outputs": []
    },
    {
      "cell_type": "code",
      "metadata": {
        "colab": {
          "base_uri": "https://localhost:8080/"
        },
        "id": "_yPQi5izgvdG",
        "outputId": "f1fe6273-6556-4c03-fcd8-6f7046a4e92f"
      },
      "source": [
        "# Create sample sentence and tokenize it\n",
        "sample_sentence = \"There's a flood in my street!\"\n",
        "text_vectorizer([sample_sentence])"
      ],
      "execution_count": 21,
      "outputs": [
        {
          "output_type": "execute_result",
          "data": {
            "text/plain": [
              "<tf.Tensor: shape=(1, 15), dtype=int64, numpy=\n",
              "array([[264,   3, 232,   4,  13, 698,   0,   0,   0,   0,   0,   0,   0,\n",
              "          0,   0]])>"
            ]
          },
          "metadata": {},
          "execution_count": 21
        }
      ]
    },
    {
      "cell_type": "code",
      "metadata": {
        "colab": {
          "base_uri": "https://localhost:8080/"
        },
        "id": "L_qhoGvziw_I",
        "outputId": "0499fcf9-4582-4660-ac26-5153f7cacfb3"
      },
      "source": [
        "# Choose a random sentence from the training dataset and tokenize it\n",
        "random_sentence = random.choice(train_sentences)\n",
        "print(f\"Original text:\\n{random_sentence}\\\n",
        "      \\n\\nVectorized version:\")\n",
        "text_vectorizer([random_sentence])"
      ],
      "execution_count": 23,
      "outputs": [
        {
          "output_type": "stream",
          "name": "stdout",
          "text": [
            "Original text:\n",
            "Stepped outside with a drink and a cigarette and immediately locked eyes with a jogger. Worlds really do collide.      \n",
            "\n",
            "Vectorized version:\n"
          ]
        },
        {
          "output_type": "execute_result",
          "data": {
            "text/plain": [
              "<tf.Tensor: shape=(1, 15), dtype=int64, numpy=\n",
              "array([[3381,  676,   14,    3, 1530,    7,    3, 4007,    7, 5385, 5201,\n",
              "         708,   14,    3,    1]])>"
            ]
          },
          "metadata": {},
          "execution_count": 23
        }
      ]
    },
    {
      "cell_type": "code",
      "metadata": {
        "colab": {
          "base_uri": "https://localhost:8080/"
        },
        "id": "iG3-ythoiwzj",
        "outputId": "d84164db-2df5-47fd-e14b-d9ffe3b6e608"
      },
      "source": [
        "# Get the unique words in the vocabulary\n",
        "words_in_vocab = text_vectorizer.get_vocabulary()\n",
        "top_5_words = words_in_vocab[:5] # most common tokens (notice the [UNK] token for \"unknown\" words)\n",
        "bottom_5_words = words_in_vocab[-5:] # least common tokens\n",
        "print(f\"Number of words in vocab: {len(words_in_vocab)}\")\n",
        "print(f\"Top 5 most common words: {top_5_words}\") \n",
        "print(f\"Bottom 5 least common words: {bottom_5_words}\")"
      ],
      "execution_count": 24,
      "outputs": [
        {
          "output_type": "stream",
          "name": "stdout",
          "text": [
            "Number of words in vocab: 10000\n",
            "Top 5 most common words: ['', '[UNK]', 'the', 'a', 'in']\n",
            "Bottom 5 least common words: ['pages', 'paeds', 'pads', 'padres', 'paddytomlinson1']\n"
          ]
        }
      ]
    },
    {
      "cell_type": "code",
      "metadata": {
        "colab": {
          "base_uri": "https://localhost:8080/"
        },
        "id": "QSFW-6Ebiwkb",
        "outputId": "6400cdb0-75a6-45c8-ad2f-cd5a4ed00f43"
      },
      "source": [
        "tf.random.set_seed(42)\n",
        "from tensorflow.keras import layers\n",
        "\n",
        "embedding = layers.Embedding(input_dim=max_vocab_length, # set input shape\n",
        "                             output_dim=128, # set size of embedding vector\n",
        "                             embeddings_initializer=\"uniform\", # default, intialize randomly\n",
        "                             input_length=max_length, # how long is each input\n",
        "                             name=\"embedding_1\") \n",
        "\n",
        "embedding"
      ],
      "execution_count": 25,
      "outputs": [
        {
          "output_type": "execute_result",
          "data": {
            "text/plain": [
              "<keras.layers.embeddings.Embedding at 0x7f40bf2e3710>"
            ]
          },
          "metadata": {},
          "execution_count": 25
        }
      ]
    },
    {
      "cell_type": "code",
      "metadata": {
        "colab": {
          "base_uri": "https://localhost:8080/"
        },
        "id": "_JvzAFuyj4_e",
        "outputId": "8c8bda5e-3e82-4adc-ca12-4359937fbbb4"
      },
      "source": [
        "# Get a random sentence from training set\n",
        "random_sentence = random.choice(train_sentences)\n",
        "print(f\"Original text:\\n{random_sentence}\\\n",
        "      \\n\\nEmbedded version:\")\n",
        "\n",
        "# Embed the random sentence (turn it into numerical representation)\n",
        "sample_embed = embedding(text_vectorizer([random_sentence]))\n",
        "sample_embed"
      ],
      "execution_count": 26,
      "outputs": [
        {
          "output_type": "stream",
          "name": "stdout",
          "text": [
            "Original text:\n",
            "@WonderousAllure crosses her arms to cover her hands from doing anymore damage. 'H-Hello..'      \n",
            "\n",
            "Embedded version:\n"
          ]
        },
        {
          "output_type": "execute_result",
          "data": {
            "text/plain": [
              "<tf.Tensor: shape=(1, 15, 128), dtype=float32, numpy=\n",
              "array([[[ 0.03355898, -0.03484685, -0.03248207, ..., -0.04971315,\n",
              "         -0.00591648, -0.01049189],\n",
              "        [ 0.04689324, -0.01369066,  0.00518651, ..., -0.03908874,\n",
              "          0.04325591, -0.00267814],\n",
              "        [ 0.00528262, -0.04030708,  0.04332492, ...,  0.00316782,\n",
              "          0.03644954, -0.00621504],\n",
              "        ...,\n",
              "        [ 0.03977952, -0.03782602, -0.03646283, ...,  0.00236253,\n",
              "          0.03332629,  0.02803668],\n",
              "        [ 0.01645621, -0.00589932, -0.01471175, ..., -0.02511839,\n",
              "          0.00912381, -0.00024097],\n",
              "        [ 0.01645621, -0.00589932, -0.01471175, ..., -0.02511839,\n",
              "          0.00912381, -0.00024097]]], dtype=float32)>"
            ]
          },
          "metadata": {},
          "execution_count": 26
        }
      ]
    },
    {
      "cell_type": "code",
      "metadata": {
        "colab": {
          "base_uri": "https://localhost:8080/"
        },
        "id": "bzl1Hp1ak2mb",
        "outputId": "dc5f77eb-7054-485d-95cf-4c8c623420b2"
      },
      "source": [
        "# Check out a single token's embedding\n",
        "sample_embed[0][0]"
      ],
      "execution_count": 27,
      "outputs": [
        {
          "output_type": "execute_result",
          "data": {
            "text/plain": [
              "<tf.Tensor: shape=(128,), dtype=float32, numpy=\n",
              "array([ 0.03355898, -0.03484685, -0.03248207,  0.02030091, -0.00820558,\n",
              "        0.01882117,  0.00759099, -0.02503158,  0.00501708, -0.01131636,\n",
              "        0.01891691,  0.00617003, -0.00326996, -0.04369779, -0.04198185,\n",
              "       -0.03454673,  0.02851542,  0.0009518 ,  0.04350659, -0.01537634,\n",
              "       -0.04019793,  0.00033764,  0.00257636,  0.01032291, -0.01066364,\n",
              "       -0.03531406, -0.04156854, -0.01114603,  0.04521556, -0.03213487,\n",
              "        0.03358265,  0.00718608, -0.03742498, -0.03444328,  0.0429786 ,\n",
              "        0.01342437,  0.00801034,  0.00232052,  0.01668713, -0.02614424,\n",
              "       -0.04560022,  0.00900841,  0.0004801 , -0.04960171,  0.00425128,\n",
              "        0.03719733, -0.00779278, -0.00829472,  0.01823862,  0.03494895,\n",
              "       -0.03122911, -0.00486223, -0.03989487, -0.04856927,  0.03880042,\n",
              "        0.04003538, -0.02028159,  0.02084116, -0.01805779, -0.00685364,\n",
              "        0.00580937, -0.03610332, -0.00101421, -0.04517525, -0.02916234,\n",
              "       -0.03929966,  0.00949522,  0.04722378,  0.02710051,  0.01033409,\n",
              "       -0.027761  , -0.00169964,  0.04797348, -0.00861812, -0.0367823 ,\n",
              "        0.00991159,  0.0160361 , -0.00450857, -0.02381744, -0.04295724,\n",
              "        0.02596238, -0.00600625, -0.02137406, -0.03403898, -0.02276194,\n",
              "        0.03184656,  0.04881061, -0.01328278,  0.04954033,  0.00244373,\n",
              "        0.0366733 , -0.04943285, -0.04411159,  0.03715625,  0.01541326,\n",
              "       -0.03083172, -0.0016248 ,  0.02302815,  0.01831608, -0.00655614,\n",
              "        0.04493003,  0.04507187,  0.01815473, -0.04231595,  0.0464182 ,\n",
              "        0.00040754, -0.00211508, -0.0079363 , -0.00659239,  0.04455562,\n",
              "       -0.02465906,  0.00710565, -0.03456253,  0.02766928,  0.03198767,\n",
              "       -0.00783402,  0.00825515, -0.01185526, -0.03893297,  0.04180986,\n",
              "        0.03942415, -0.03380858,  0.02832376,  0.007782  , -0.00059003,\n",
              "       -0.04971315, -0.00591648, -0.01049189], dtype=float32)>"
            ]
          },
          "metadata": {},
          "execution_count": 27
        }
      ]
    },
    {
      "cell_type": "markdown",
      "metadata": {
        "id": "QM4v7TOLn6D_"
      },
      "source": [
        "More specifically, we'll be building the following:\n",
        "* **Model 0**: Naive Bayes (baseline)\n",
        "* **Model 1**: Feed-forward neural network (dense model)\n",
        "* **Model 2**: LSTM model\n",
        "* **Model 3**: GRU model\n",
        "* **Model 4**: Bidirectional-LSTM model\n",
        "* **Model 5**: 1D Convolutional Neural Network\n",
        "* **Model 6**: TensorFlow Hub Pretrained Feature Extractor\n",
        "* **Model 7**: Same as model 6 with 10% of training data"
      ]
    },
    {
      "cell_type": "markdown",
      "metadata": {
        "id": "gsD17YhDp1NJ"
      },
      "source": [
        " ## Naive Bayes"
      ]
    },
    {
      "cell_type": "code",
      "metadata": {
        "colab": {
          "base_uri": "https://localhost:8080/"
        },
        "id": "7iLmoes_lBGp",
        "outputId": "52af37ac-bbaa-4549-f434-6634d2347f20"
      },
      "source": [
        "from sklearn.feature_extraction.text import TfidfVectorizer\n",
        "from sklearn.naive_bayes import MultinomialNB\n",
        "from sklearn.pipeline import Pipeline\n",
        "\n",
        "# Create tokenization and modelling pipeline\n",
        "model_0 = Pipeline([\n",
        "                    (\"tfidf\", TfidfVectorizer()), # convert words to numbers using tfidf\n",
        "                    (\"clf\", MultinomialNB()) # model the text\n",
        "])\n",
        "\n",
        "# Fit the pipeline to the training data\n",
        "model_0.fit(train_sentences, train_labels)"
      ],
      "execution_count": 28,
      "outputs": [
        {
          "output_type": "execute_result",
          "data": {
            "text/plain": [
              "Pipeline(memory=None,\n",
              "         steps=[('tfidf',\n",
              "                 TfidfVectorizer(analyzer='word', binary=False,\n",
              "                                 decode_error='strict',\n",
              "                                 dtype=<class 'numpy.float64'>,\n",
              "                                 encoding='utf-8', input='content',\n",
              "                                 lowercase=True, max_df=1.0, max_features=None,\n",
              "                                 min_df=1, ngram_range=(1, 1), norm='l2',\n",
              "                                 preprocessor=None, smooth_idf=True,\n",
              "                                 stop_words=None, strip_accents=None,\n",
              "                                 sublinear_tf=False,\n",
              "                                 token_pattern='(?u)\\\\b\\\\w\\\\w+\\\\b',\n",
              "                                 tokenizer=None, use_idf=True,\n",
              "                                 vocabulary=None)),\n",
              "                ('clf',\n",
              "                 MultinomialNB(alpha=1.0, class_prior=None, fit_prior=True))],\n",
              "         verbose=False)"
            ]
          },
          "metadata": {},
          "execution_count": 28
        }
      ]
    },
    {
      "cell_type": "code",
      "metadata": {
        "colab": {
          "base_uri": "https://localhost:8080/"
        },
        "id": "UXEb8JRLpi9C",
        "outputId": "9da0a6f5-d21f-46e4-f59f-5154e0ba8dac"
      },
      "source": [
        "baseline_score = model_0.score(val_sentences, val_labels)\n",
        "print(f\"Our baseline model achieves an accuracy of: {baseline_score*100:.2f}%\")"
      ],
      "execution_count": 29,
      "outputs": [
        {
          "output_type": "stream",
          "name": "stdout",
          "text": [
            "Our baseline model achieves an accuracy of: 79.27%\n"
          ]
        }
      ]
    },
    {
      "cell_type": "code",
      "metadata": {
        "colab": {
          "base_uri": "https://localhost:8080/"
        },
        "id": "pawyMckUpisH",
        "outputId": "0a9cf268-a641-4a62-c2e4-fa426c0716d4"
      },
      "source": [
        "# Make predictions\n",
        "baseline_preds = model_0.predict(val_sentences)\n",
        "baseline_preds[:20]"
      ],
      "execution_count": 30,
      "outputs": [
        {
          "output_type": "execute_result",
          "data": {
            "text/plain": [
              "array([1, 1, 1, 0, 0, 1, 1, 1, 1, 0, 0, 1, 0, 0, 0, 0, 0, 0, 0, 1])"
            ]
          },
          "metadata": {},
          "execution_count": 30
        }
      ]
    },
    {
      "cell_type": "code",
      "metadata": {
        "colab": {
          "base_uri": "https://localhost:8080/"
        },
        "id": "ggtGsY4IpidD",
        "outputId": "1822f6e3-b841-4d7a-a5f9-3fc54e2e3373"
      },
      "source": [
        "val_sentences"
      ],
      "execution_count": 31,
      "outputs": [
        {
          "output_type": "execute_result",
          "data": {
            "text/plain": [
              "array(['DFR EP016 Monthly Meltdown - On Dnbheaven 2015.08.06 http://t.co/EjKRf8N8A8 #Drum and Bass #heavy #nasty http://t.co/SPHWE6wFI5',\n",
              "       'FedEx no longer to transport bioterror germs in wake of anthrax lab mishaps http://t.co/qZQc8WWwcN via @usatoday',\n",
              "       'Gunmen kill four in El Salvador bus attack: Suspected Salvadoran gang members killed four people and wounded s... http://t.co/CNtwB6ScZj',\n",
              "       '@camilacabello97 Internally and externally screaming',\n",
              "       'Radiation emergency #preparedness starts with knowing to: get inside stay inside and stay tuned http://t.co/RFFPqBAz2F via @CDCgov',\n",
              "       'Investigators rule catastrophic structural failure resulted in 2014 Virg.. Related Articles: http://t.co/Cy1LFeNyV8',\n",
              "       'How the West was burned: Thousands of wildfires ablaze in #California alone http://t.co/iCSjGZ9tE1 #climate #energy http://t.co/9FxmN0l0Bd',\n",
              "       \"Map: Typhoon Soudelor's predicted path as it approaches Taiwan; expected to make landfall over southern China by S\\x89Û_ http://t.co/JDVSGVhlIs\",\n",
              "       '\\x89Ûª93 blasts accused Yeda Yakub dies in Karachi of heart attack http://t.co/mfKqyxd8XG #Mumbai',\n",
              "       'My ears are bleeding  https://t.co/k5KnNwugwT',\n",
              "       \"@RedCoatJackpot *As it was typical for them their bullets collided and none managed to reach their targets; such was the ''curse'' of a --\",\n",
              "       'The Five Fatal Flaws in the Iran Deal https://t.co/ztfEAd8GId via @YouTube',\n",
              "       'Isai 60:1; Psm 138:8\\n Every conspiracy against my lifting be scattered unto desolation in the name o f Jesus.',\n",
              "       \"k_matako_bot: Breaking news! Unconfirmed! I just heard a loud bang nearby. in what appears to be a blast of wind from my neighbour's ass.\",\n",
              "       'The Drowning Girl by Caitlin R. Kiernan Centipede Press Signed numbered Limited - Full re\\x89Û_ http://t.co/McSEK4hX5S http://t.co/IIfGaZ0Fil',\n",
              "       'Greedy bastards @Fullscreen way to ruin creativity.  CENSORSHIP ON YOUTUBE: https://t.co/nMtlpO4B58',\n",
              "       'One day I want someone to run for the ferry fall and crack there face open for almost knocking me over just to get on a boat ??????',\n",
              "       \"there's this person &amp; they reckon when you're dying your brain floods with dmt causing you to relive your life in real time in a simulation\",\n",
              "       'Policyholders object to Clico rescue plan http://t.co/E4DvI9vUXZ http://t.co/JyCpf8iYhg',\n",
              "       'Brooklyn locksmith: domesticate emergency mechanic services circa the clock movement!: gba http://t.co/1Q6ccFfzV6',\n",
              "       'Hiroshima: They told me to paint my story: Eighty-nine year old man recalls the terror and the trauma when the... http://t.co/spE7U8t40K',\n",
              "       'So I pick myself off the ground and swam before I drowned. Hit the bottom so hard I bounced twice suffice this time around is different.',\n",
              "       \"US wont upgrade its infrastructure? http://t.co/NGEHhG9YGa' it a bad situation and its going to get ugly very quickly #USA #sustainability\",\n",
              "       \"Ron &amp; Fez - Dave's High School Crush https://t.co/aN3W16c8F6 via @YouTube\",\n",
              "       \"New warning for Central Hills 1' hail 60 mph winds. NOT affecting Sturgis but could later tonight. #KOTAWeather http://t.co/qo3VWFelkp\",\n",
              "       '70 Years After Atomic Bombs Japan Still Struggles With War Past: The anniversary of the devastation wrought b... http://t.co/iTBJ6DKRZI',\n",
              "       \"If I survive I'll see you tomorrow\",\n",
              "       'Bit pacquiao vs marquez 3 unfilled blazing swarm online: DuRvOd http://t.co/6VJA8R4YXA',\n",
              "       '@SeanPeconi @Jason_Floyd @LynchOnSports @criscyborg I think the risk of losing and getting her nose flattened has a lot to do with it',\n",
              "       \"im tired of all these #AllLivesMatter people. they only say this to derail #blacklivesmatter they dont do anything for 'all lives' lmfao\",\n",
              "       'Medieval airplane hijacker testa: earnings the distinction divers: HtaRvrGLY',\n",
              "       '? High Skies - Burning Buildings ? http://t.co/uVq41i3Kx2 #nowplaying',\n",
              "       'Excited not only about the next 6 years of school and ensuing student debt but also catastrophic climate change in my lifetime   \\n\\n:D ??',\n",
              "       '#ArrestpastorNganga it so worrying 2 see how some police officers in Kenya have sunk to low to the point of collaborating with pick pockets',\n",
              "       \"For these Californians it's like living in Africa's Sahel desert - just finding water a daily chore. http://t.co/ySG9vsrT4g\",\n",
              "       \"@cameronhigdon34 I can't drown my demons they know how to swim.\",\n",
              "       \"Turkish troops killed in Kurdish militant 'suicide attack' http://t.co/nVP6wrKL1E\",\n",
              "       '@almusafirah_ you feel trapped innit ??',\n",
              "       'Why are you deluged with low self-image? Take the quiz: http://t.co/XsPqdOrIqj http://t.co/CQYvFR4UCy',\n",
              "       'Cop injured in gunfight as militants attack Udhampur police post: Suspected militants attacked a police post i... http://t.co/2h0dPMv2Ef',\n",
              "       '@BoyInAHorsemask its a panda trapped in a dogs body',\n",
              "       \"@iphooey @TIME Ironically Michele Bachmann brought this up in '11 w/Ron Paul &amp; everyone blew her off and called hoax. She was finally right\",\n",
              "       'Nearly had a heart attack just now; loud bang against window next to me\\x89Û_turns out it was two birds flying into the glass.',\n",
              "       'Russian #ushanka #winter #military fur hat (xl61-62) with soviet badge LINK:\\nhttp://t.co/74YFQxvAK0 http://t.co/KXrEHVt6hL',\n",
              "       '@ZachLowe_NBA there are a few reasons for that but one of them is the constant Drake inundation.  Extremely annoying.  If Drake lands us a',\n",
              "       'Civilian casualties rise as Afghan war intensifies in 2015-- http://t.co/NnylXhInPx',\n",
              "       '#SBNation #Flames What Makes a Good Penalty Killer? http://t.co/xYi5fDacxO http://t.co/SjtvzgGcXU',\n",
              "       'C-130 specially modified to land in a stadium and rescue hostages in Iran in 1980 http://t.co/jkD7CTi2iW http://t.co/LAjN2n5e2d',\n",
              "       'Cyclists it is pandemonium on the roads today. Drive carefully!',\n",
              "       '@madonnamking RSPCA site multiple 7 story high rise buildings next to low density character residential in an area that floods',\n",
              "       'I didn`t want to hurt you but the fear drove me to do it ............... Midnight',\n",
              "       '#foodscare #offers2go #NestleIndia slips into loss after #Magginoodle #ban unsafe and hazardous for #humanconsumption',\n",
              "       \"@likeavillasboas @rich_chandler Being' injury prone' isn't actually just suffering injuries often.\",\n",
              "       '@SlikRickDaRula Drake really body bagging peeps man ?? he really bout it',\n",
              "       'I want to go back to Vegas for my 21 but I feel like that would be such a disaster lol so much money would need to be brought',\n",
              "       '@bentossell @ProductHunt Thanks! I know you all get inundated. Have a good one!',\n",
              "       '@samajp32 really needs to tone it down some in the weight room. RT @SoonerSportsTV: Demolition (cont) http://t.co/2o7Eva1cOe',\n",
              "       '#SigAlert: North &amp; Southbound 133 closed btwn 5 fwy and Irvine Blvd due to truck fire. CHP is detouring traffic.',\n",
              "       'Leitchfield KY:\\n\\n Bella Edward &amp; Rosalie need rescue/adoption/local foster home(s)/sponsorships.\\n\\n Trapped &amp;... http://t.co/Ajay0sNPlg',\n",
              "       \"You can never escape me. Bullets don't harm me. Nothing harms me. But I know pain. I know pain. Sometimes I share it. With someone like you.\",\n",
              "       \"@TSUNAMI_nopeach ?????? I'm weak af\",\n",
              "       'Severe Thunderstorm Warning for Oklahoma County until 10:30pm. http://t.co/RsdkWZRc8g #okwx',\n",
              "       '#TRAFFICALERT  Eastbound 210 Freeway at Citrus Ave in Azusa. Two motorcycles involved in accident with one fully engulfed in flames in lanes',\n",
              "       'I Will Survive by Gloria Gaynor (with Oktaviana Devi) \\x89ÛÓ https://t.co/HUkJZ1wT36',\n",
              "       \"@JohnFromCranber  Pleas FOR global warming don't really work when California / Australia keep having catastrophic 'bush' fires.\",\n",
              "       'Photo: Hundreds of rescued migrants await disembarkment from an Irish naval vessel at Palermo Italy - @tconnellyR\\x89Û_ https://t.co/AIM5CYHL0y',\n",
              "       \"'The Terrorist Tried to Get Out of the Car; I Shot Him' http://t.co/VSoxKbt6Nq\",\n",
              "       'Floods Fishing Finally Sunshine &amp; Fab Deals from Albertsons Anniversary Sale |Lauren Paints | a beautiful life http://t.co/CwHSLMB8x9',\n",
              "       'Why does my family have to ruin something that is actually going good for me??',\n",
              "       'Back from Seattle Tacoma and Portland. Whirlwind! http://t.co/qwHINBni8e',\n",
              "       \"Apparently if you're bleeding people look at you weird lol well it's fine keep walking\",\n",
              "       '@KatieKatCubs you already know how this shit goes. World Series or Armageddon.',\n",
              "       'Tube strike live: Latest travel updates as London is engulfed in chaos: \\x89Û_  cross-London travel will be accepte...  http://t.co/vg8HRbebdA',\n",
              "       'her cake looks like a mudslide hah',\n",
              "       '@TheBuffShow @TheTwisterOkc My boyfriend wants too see @ShaniaTwain too! #TwisterLovesShania ?????? http://t.co/O61h2tAaE4',\n",
              "       'DireTube Information \\x89ÛÒ Egypt Cyprus and Greece agreed to fightåÊterrorism http://t.co/V6IjxCCD2I http://t.co/YSXhFWMGOD',\n",
              "       '@Anthxvy runs in the blood',\n",
              "       'Another fake hate crime Lesbians burn their own house down. What else Is new :http://t.co/66oBQmxImb',\n",
              "       'why is it trouble@niallhariss / @simply_vain live on http://t.co/iAhJj0agq6',\n",
              "       'FedEx not willing to transport research specimens of potential bioterror pathogens in wake of anthrax lab mishaps  http://t.co/cM8UnI1mRG',\n",
              "       'GENERAL AUDIENCE: On Wounded Families | ZENIT - The World Seen From Rome http://t.co/hFvnyfT78C',\n",
              "       'What Natural Disaster Are You When You Get Angry? http://t.co/O9DzgZqEMf',\n",
              "       'OUN continues Severe Thunderstorm Warning for Oklahoma [OK] till 10:30 PM CDT http://t.co/oIM6Po8XCu',\n",
              "       '@BadAstronomer ...I have a lot of trouble getting both students and adults to understand that the moon is farther away than they think.',\n",
              "       \"Interesting approach but doesn't replace Eyewitness video. The Ferguson Case - Video - http://t.co/vEcsoSRleR http://t.co/fiUOgj6hEF\",\n",
              "       '@helene_yancey GodsLove &amp; #thankU my sister Helene for RT of NEW VIDEO http://t.co/cybKsXHF7d The Coming Apocalyptic US Earthquake &amp; Tsunami',\n",
              "       'Catfish retweeted me &amp; my notifications blew up ??????.',\n",
              "       \"'Hey bitch blow me' uh no. Stick your dick in some water then an outlet so u get electrocuted..\",\n",
              "       'Students at Sutherland remember Australian casualties at Lone Pine Gallipoli\\n http://t.co/d50oRfXoFB via @theleadernews',\n",
              "       'How Missing Jet\\x89Ûªs Debris Could Have Floated to RÌ©union - The New York Times http://t.co/pNnUnrnqjA',\n",
              "       'Dramatic Video Shows Plane Landing During Violent Storm http://t.co/XRgPdlSWfD',\n",
              "       \"@asymbina @tithenai I'm hampered by only liking cross-body bags. I really like Ella Vickers bags: machine washable. http://t.co/YsFYEahpVg\",\n",
              "       \"I trapped this cat in my room and it's going insane but it's not leaving it's too pretty! http://t.co/gRLxUrko8D\",\n",
              "       \"Look at them'@Ayhoka_: Co happy bn too long'@Foxy__Siren: Oh finally Jennifer Aniston got married??????... I'm so happy for her ??????''\",\n",
              "       \"#Myanmar 's Displaced #Rohingya at #Sittwe point of no return http://t.co/gsa4o1mjNm Prison-like conditionsprivation http://t.co/i5ma6eWuwc\",\n",
              "       '#FedEx no longer to transport bioterror germs in wake of anthrax lab mishaps http://t.co/S4SiCMYRmH',\n",
              "       \"DISASTER AVERTED: Police kill gunman with 'hoax device' at cinema http://t.co/94SXKI7KVX\",\n",
              "       'Storm headed towards Idaho Falls with blowing dust &amp; winds to 60 mph.  US HWY 20 &amp; I15 look out.  #idwx http://t.co/0cR74m1Uxm',\n",
              "       '#EverydayNaija | Flood: Two people dead 60 houses destroyed in Kaduna http://t.co/nOnm8C6L8P',\n",
              "       \"Don't miss Chris #Appy's detonation of the myths obscuring our crime in #Hiroshima 70 yrs ago this month. @salon http://t.co/DlP8kPkt2k\",\n",
              "       \"Bin Laden family plane crashed after 'avoiding microlight and landing too far down runway': Three members of t... http://t.co/mFJxh4p51U\",\n",
              "       'FOOTBALL IS BACK THIS WEEKEND ITS JUST SUNK IN ??????',\n",
              "       '@Blizzard_draco @LoneWolffur also me please I would very much like a link',\n",
              "       'How the West was burned: Thousands of wildfires ablaze in California alone http://t.co/vl5TBR3wbr',\n",
              "       'Hiroshima prepares to remember the day the bomb dropped http://t.co/oJHCGZXLSt',\n",
              "       \"Apparently my face screams \\n'Get me emotionally attached and then cheat on me'\",\n",
              "       '@Vickie627 Desert Storm was an unqualified victory a treaty was signed.  Under Clinton the situation only got worse and more violent. #tcot',\n",
              "       'Dr. Gridlock: Here\\x89Ûªs what may have caused a Metro train to derail in downtown D.C. http://t.co/Pm2TNnFDWw #washingtonpost',\n",
              "       \"Already expecting to be inundated w/ articles about trad authors' pay plummeting by early next year but if this is true it'll be far worse\",\n",
              "       '[55436] 1950 LIONEL TRAINS SMOKE LOCOMOTIVES WITH MAGNE-TRACTION INSTRUCTIONS http://t.co/xEZBs3sq0y http://t.co/C2x0QoKGlY',\n",
              "       'Yelp Bolsters Health Care Reviews With Investigative Journalism: Sick and injured patients at a local ER are t... http://t.co/E8aEGOFDY2',\n",
              "       'Anyone know if Fox \\x89ÛÏNews\\x89Û\\x9d will be live-streaming tonight\\x89Ûªs Republican debate online? I want to watch the train wreck.',\n",
              "       'My mom is watching a show about bridges breaking/falling and the people on them drowning in their cars aka one of my biggest fears ????',\n",
              "       'Mike Magner Discusses A Trust Betrayed: http://t.co/GETBjip5Rh via @YouTube #military #veterans #environment',\n",
              "       \"Sinkhole Selfies: You Wont Believe What's In The Brooklyn Sinkhole!: \\n        Sinkhole Selfies: You Wont Belie... http://t.co/A3b5n3rcr5\",\n",
              "       '#MeditationByMSG 45600 ppl got method of meditation in U.P &amp;got deluge of divine blessing 4 happy n peaceful life. http://t.co/VMf5LnxVzC',\n",
              "       'Why Are #BAYONETS Being Distributed To Local Police Departments?\\n@RandPaul wants to know\\n\\nhttps://t.co/XB8nfxaBUM\\n\\n#EvilEmpire\\n#JadeHelm15',\n",
              "       'Public Hearing on 2015-16 @SUNY_Orange budget Thurs 8/6 at 3:15 Emergency Services Ctr Goshen. http://t.co/80DzgCo6Vc',\n",
              "       \"Grow Calgary avoids worst of city's wicked weather * ~ 16 http://t.co/HLyHDfWsQB http://t.co/GwSNBMmcqF\",\n",
              "       '@freefromwolves GodsLove &amp; #thankU brother Danny for RT of NEW VIDEO http://t.co/cybKsXHF7d The Coming Apocalyptic US Earthquake &amp; Tsunami',\n",
              "       'Obama Declares Disaster for Typhoon-Devastated Saipan: Obama signs disaster declaration for Northern Marians a... http://t.co/qjuU0wcWPx',\n",
              "       '@Habbo bring back games from the past. Snowstorm. Tic tac toe. Battleships. Fast food. Matchwood.',\n",
              "       \"If I'm also not mistaken we're sitting right next 2 a nuclear reactor. Not smart when we have a cataclysmic event &amp; that reator melts down.\",\n",
              "       'British diver Neil Anthony Fears found dead by the wreck of a steamship - Daily Mail http://t.co/QP3GVvfoFq',\n",
              "       'RT grant_factory: #grants #funds Weymouth meeting on seawalls and flood grants set for Thursday night \\x89Û_ http://t.co/Th2WLilBmo',\n",
              "       \"Stay tuned or don't idc #casualties http://t.co/nssjPR6Pdd\",\n",
              "       \"??One night and we're gonna come and crash the party\\nWeren't invited but we're feelin' so\\x89Û_ https://t.co/9hKXxBB82O\",\n",
              "       'Petition | Heartless owner that whipped horse until it collapsed is told he can KEEP his animal! Act Now! http://t.co/87eFCBIczM',\n",
              "       \"@time4me_sews I know! It still hasn't quite sunk in :D\",\n",
              "       'Drowning in Actavis suicide',\n",
              "       \"NO WAYS!!! A video for 'Stretcher'?!  @Ofentse_Tsie\",\n",
              "       'Obama Declares Disaster for Typhoon-Devastated Saipan: Obama signs disaster declaration for Northern Marians a... http://t.co/VTS9CAyiBC',\n",
              "       \"#BREAKING 10th death confirmed in Legionnaires' outbreak in South Bronx; total cases reaches triple digits\\nhttp://t.co/TxrsWi0efg\",\n",
              "       '70 Years After Atomic Bombs Japan Still Struggles With War Past: The anniversary of the devastation wrought b... http://t.co/LtVVPfLSg8',\n",
              "       'Iraq - Hashd Shaabi Theft ISIS Suicide Car bomb http://t.co/2AG9auABr3 #ISIS http://t.co/Qna4TUBnWh',\n",
              "       'Body shops inundated with cars dented by hail... Good news insurance pays... Bad news :  you are stuck with deductible !\\n#wcvb',\n",
              "       'HURRICANE GUILLERMO LIVE NOAA TRACKING / LOOPING WED.AUG.5TH ~ http://t.co/RjopJKbydR ~  http://t.co/NUFDgw9YEv http://t.co/2oKSCwYoHC',\n",
              "       \"#PapiiChampoo What I enjoy most about the Obama era is the civility: Prez says GOP supports Iranian 'Death to ... http://t.co/jpU3es746I\",\n",
              "       'What This Man Did To Save A Drowning Squirrel Is Absolutely Incredible\\nhttp://t.co/YzZXxkNiSm http://t.co/zzsEe5Hipm',\n",
              "       \"And when those waves shall ripple collide it's on the tide of YOUR LOVE I will survive. #love @LesleyChappelle\",\n",
              "       'Train derailment: In Patna no news of any casualty so far - The Indian Express http://t.co/YH5VETm0YZ http://t.co/17Wgug8z0M',\n",
              "       'Reasons @BlueWestlo has exploded on @YouTube #38745: https://t.co/Upgd2cy9il',\n",
              "       \"tarmineta3: Breaking news! Unconfirmed! I just heard a loud bang nearby. in what appears to be a blast of wind from my neighbour's ass.\",\n",
              "       'When ur friend and u are talking about forest fires in a forest and he tells u to drop ur mix tape out there... #straightfire',\n",
              "       'The Sound of Arson',\n",
              "       \"There's a weird siren going off here...I hope Hunterston isn't in the process of blowing itself to smithereens...\",\n",
              "       \"Somebody get the doctor I'm feelin' pretty poor. Somebody get the stretcher\\nbefore I hit the floor\",\n",
              "       'You are equally as scared cause this somehow started to heal you fill your wounds that you once thought were permanent.',\n",
              "       'Seriously do we have to do a tactical riot against the headquarters of Disney and Marvel...',\n",
              "       'As Anniversary Nears Atomic Bomb Survivors Speak Out Against Nuclear Power - http://t.co/Uo8GrDAuAT',\n",
              "       'Online Homeland security: An Appraisal of #Pakistan\\x89Ûªs #Anti-Terrorism #Act https://t.co/mRoSPd9878',\n",
              "       'crushed a 6 mile run tonight. awesome',\n",
              "       \"Timestack' Photos Collapse Entire Sunsets Into Single Mesmerizing Images. http://t.co/Cas8xC2DFE\",\n",
              "       'GEARS OF WAR 1!(preview member) Come chat! XB1! Welcome to the DANGER zone!: http://t.co/6SdgZ5DXNt',\n",
              "       \"That moth that held me hostage yesterday has been chilling on the bathroom windowsill all day and I'm not okay with this\",\n",
              "       '#news #crimes Police ID victim in fatal crash that closed I-65 near Franklin: One person is d... http://t.co/9h0ym9OFsv #justice #courts',\n",
              "       '@cjbanning 4sake of argsuppose pre-born has attained individl rights.Generally courtof law forbids killing unless dead person did something',\n",
              "       \"https://t.co/WKv8VqVkT6 #ArtisteOfTheWeekFact say #Conversations by #coast2coastdjs agree @Crystal_Blaz 's #Jiwonle is a #HipHop #ClubBanger\",\n",
              "       '#earthquake (EMSC): MD 2.9 OFF COAST OF NORTHERN CALIFORNIA http://t.co/6AiMd1uway G http://t.co/9cgbJwmhII',\n",
              "       'Bright &amp; BLAZING Fireman Birthday Party http://t.co/9rFo9GY3nE #Weddings',\n",
              "       'Heat Advisory is In Effect From 1 PM Through 7 PM Thursday. A Building Heat Wave and Increasing Humidity... #lawx http://t.co/u0SYkowVWV',\n",
              "       \"the message you sent and they don't reply. I see that you saw my message the least you can do is tell me to 'fuck off' or something.\",\n",
              "       \"@PerkPearl that's just not on. I'd be traumatised are you OK? The car has gone and now for #GBBO and relax.....\",\n",
              "       '[#Latestnews] Police officer wounded suspect dead after exchanging shots: RICHMOND Va. (AP) \\x89ÛÓ A Richmond pol... http://t.co/ia1HnGnHVB',\n",
              "       'US Navy Sidelines 3 Newest #Subs http://t.co/9WQixGMHfh',\n",
              "       'Busty blonde teen Natalia Starr fucks the security guard on set http://t.co/qew4c5M1xd View and download video',\n",
              "       'BBC News - India rail crash: Trains derail in Madhya Pradesh flash flood http://t.co/WgmZmJ5imD',\n",
              "       'Social Casualty #MTVHottest 5SOS',\n",
              "       'Evacuation order lifted for town of Roosevelt Wash. though residents warned to be ready to leave quickly http://t.co/Na0ptN0dTr',\n",
              "       \"@CharlesDagnall He's getting 50 here I think. Salt. Wounds. Rub. In.\",\n",
              "       'Flooding kills 166 displace over one million in Pakistan http://t.co/iCFQl7I9oP\\n\\nAt least 166 people have been killed and nearly 11 lakh\\x89Û_',\n",
              "       '#World #News Qld police wrap Billy Gordon investigation: QUEENSLAND Police have wrapped up their investigation...  http://t.co/msgnNDxOeK',\n",
              "       '???? #Krefeld: the incident happened in a chemical industry park! Emergency operations underway! A building reportly collapsed! @cnnbrk @ntvde',\n",
              "       \"@PhDSquares #mufc they've built so much hype around new acquisitions but I doubt they will set the EPL ablaze this season.\",\n",
              "       'Refugio oil spill may have been costlier bigger than projected http://t.co/EFCn9IVNfg A Plains All American Pipeline oil spill off the S\\x89Û_',\n",
              "       'I wanna drink a little  smoke a little',\n",
              "       \"the_af comments on 'New evidence of Japan's effort to build atom bomb at the end of WWII' - http://t.co/hcTxghR2Yf\",\n",
              "       'A Dayton-area org tells me it was hit by a cyber attack: http://t.co/7LhKJz0IVO',\n",
              "       'Well that was a journey to get home! A train collided with cows on the track! ????',\n",
              "       'beforeitsnews : Hundreds feared dead after Libyan migrant boat capsizes during rescue \\x89Û_ http://t.co/MjoeeBDLXn) http://t.co/fvEn1ex0PS',\n",
              "       \"I need a spot w| some drink specials. I'm kinda tired of the epicentre\",\n",
              "       'Article by Michael Jackman at Metro Times Detroit:\\nThe group later downgraded the estimate to 37 square miles of... http://t.co/h31mmuduqt',\n",
              "       \"@ONU_France 74/75 Bioterrorism on '@Rockefeller_Chi/@RockefellerUniv'Heiress 2 evade lgl efforts 2 prosecute BLKs 4 @HarvardU kidnap'g.@AFP\",\n",
              "       '@FinancialTimes Ethiopian regimes continue receiving foreign aid when famine struck for 2 years eastern Ethiopia  https://t.co/2fGgzQn1v4',\n",
              "       '@billy_hodge Aurora theater shooting trial: Gunman expected notoriety for mass murder and nothing else  http://t.co/1RPCHRu72C',\n",
              "       'FERNO would appreciate if everyone in EMS could dust off their engineering degree &amp; inspect all stretcher components. http://t.co/GTEd6LDwho',\n",
              "       'Vanderbilt: First Do No Harm http://t.co/cCdx7CGlQW',\n",
              "       '#Bestnaijamade: 16yr old PKK suicide bomber who detonated bomb in ... http://t.co/KSAwlYuX02 bestnaijamade bestnaijamade bestnaijamade be\\x89Û_',\n",
              "       'Owner of Chicago-Area Gay Bar Admits to Arson Scheme http://t.co/0TSlQjOKvh via @theadvocatemag #LGBT',\n",
              "       \"We rescued my dog at least 9 years ago ?? she's old but still sweet as ever ?? @Zak_Bagans http://t.co/yhYY3o609U\",\n",
              "       '@BoomerangTime @RSKarim1 @sopameer @wattashit3 Appears to already be arriving in Ridah in body bags.',\n",
              "       'California oil spill might be larger than projected: http://t.co/xwxBYHTuzC http://t.co/wzeDxEFBlg',\n",
              "       'New post from @darkreading http://t.co/8eIJDXApnp New SMB Relay Attack Steals User Credentials Over Internet',\n",
              "       'Brain twister homefolks are opinionated over against proposal modernized canada: oMw',\n",
              "       \"I would like to electrocute everyone who uses the word 'fair' in connection with income tax policies. - William F. Buckley Jr.\",\n",
              "       \"4.5 out of 5 stars by 290 reviewers for 'Dragon Blood' Boxset by Lindsay Buroker http://t.co/4yu5Sy1Cui #kindle http://t.co/mzmxMyklXv\",\n",
              "       'Ye did the same thing to Big Sean and he still blew up',\n",
              "       \"when you don't know which way an ambulance is coming from &lt;&lt;\",\n",
              "       'Perspectives on the Grateful Dead: Critical Writings (Contributions to the Study http://t.co/fmu0fnuMxf http://t.co/AgGRyhVXKr',\n",
              "       '@ChristyCroley Not in the works yet. Did you see the new Vela Short in Blaze? http://t.co/Q8rEoEVluE',\n",
              "       'waiting for my chocolate lava cakes to get here ??????',\n",
              "       '@DoriCreates @alhanda seems gov moonbeam between tokes blames bush for all the fires.',\n",
              "       'California police officer pulls gun on man without any apparent provocation (VIDEO) http://t.co/Lhw4vTbHZG via @dailykos',\n",
              "       'Wholesale #WE Gon Rep That $hit At All Costs- Hazardous #WholeTeam3 #WholesaleEnt https://t.co/JWnXH9Q5ov',\n",
              "       'Demco 8550013 Hijacker 5th Wheel Hitch 21K Ultra Series Double Pivot http://t.co/hRdwGfbFYq http://t.co/nUOhKmPZFj',\n",
              "       \"Wreckage 'Conclusively Confirmed' as From MH370: Malaysia PM: Investigators and the families of those who were... http://t.co/gRh7zLK979\",\n",
              "       'Head on head collision Ima problem and nobody can solve em on Long division',\n",
              "       'Emergency units simulate a chemical explosion at NU: Suppose a student in the research labs at Northwestern\\x89Û_ http://t.co/0NR4DPjgyL',\n",
              "       '2 Cars Collide 1 Crashes Into Building: Two cars collided at an intersection and that sent one vehicle crashing\\x89Û_ http://t.co/TpUu3eaTB3',\n",
              "       'Ashes 2015: Australia\\x89Ûªs collapse at Trent Bridge among worst in history: England bundled out Australia for 60 ... http://t.co/t5TrhjUAU0',\n",
              "       \"Love how I don't get in any trouble for having people over and the house still being trashed\",\n",
              "       'Severe hailstorm in progress over Northeast Logan County... #cowx http://t.co/XK9OwGV1O5',\n",
              "       'If you sit and rant on snapchat to your apparent fans when you have about 8000 followers I hope your in a train crash xoxo',\n",
              "       \"@TennoAtax I hand you a glass of water and sit down. 'I was rescued by a Tenno. I've lived in my ship around the dojo for about a year...'\",\n",
              "       'Learn How I Gained Access To The Secrets Of The Top Earners &amp; Used Them To Explode My Home Business Here: http://t.co/SGXP1U5OL1 Please #RT',\n",
              "       \"What's wrong with just a lil smoke and good conversation ????\",\n",
              "       'Share Large sinkhole swallows entire pond in Lowndes County Georgia A large\\x89Û_ http://t.co/HvBJ30aj9s #YoNews',\n",
              "       '@NorthBayHealth Trauma Center Shines In Response To Multi-Casualty Crash. http://t.co/21B6SKPDUR http://t.co/wBCb3sYtj7',\n",
              "       '@NickLee8  i went to school in a bombed out East End of London3 families to one house no bathroom outside loo &amp; poor so whats yr point',\n",
              "       \"I'm drowning in spirits to wash you out\",\n",
              "       \"Science Daily: Lightning reshapes rocks at the atomic level - A lightning strike can reshape a mineral's crystal s... http://t.co/TEZLTqeyw2\",\n",
              "       'going to redo my nails and watch behind the scenes of desolation of smaug ayyy',\n",
              "       \"lets see how good you are at soccer when you're bleeding out yo face\",\n",
              "       \".\\n.@Colts get demolished by #Patriots like 500-7 and whine to @nfl about 'integrity' #CantMakeItUp #PatriotsNation http://t.co/tpW5gPmhQ4\",\n",
              "       'Typhoon Soudelor taking dead aim at Taiwan http://t.co/3Ac5wuy1R0',\n",
              "       'Hey #AZ: Sign this petition to save the #WildHorses @ #TantoNationalForest! A @RollingStones sing-a-long is in order: http://t.co/WM5l8PJ2iY',\n",
              "       'Sadly before she could save humanity Ursula drowned in the drool of a protoshoggoth but at least she sort of died doing what she loved.',\n",
              "       '#Myanmar  Displaced #Rohingya at #Sittwe point of no return http://t.co/cgf61fPmR0  #Prison like conditions #genocide IHHen MSF Refugees',\n",
              "       'FedEx stops shipping potential bioterror pathogens http://t.co/tkeOAeDQKq #trucking',\n",
              "       \"Is This Country Latin America's Next 'Argentina': One week ago we reported on the economic devastation in he o... http://t.co/m2y9Ym3iF6\",\n",
              "       'Finnish ministers: Fennovoima nuclear reactor will go ahead http://t.co/vB3VFm76ke #worldnews #news #breakingnews',\n",
              "       '@dreamoforgonon @TeeEss not to hijack but as a bona fide cislady I can confirm this as true; incidental homosexuality =/= gay/bi for women.',\n",
              "       'EPA begins demolition of homes in toxic area #Buffalo - http://t.co/noRkXBRS6G',\n",
              "       'I get to smoke my shit in peace',\n",
              "       '???? it was an accident http://t.co/Oia5fxi4gM',\n",
              "       'A wasp just dive bombed my face',\n",
              "       \"Unions say they are supportive of 'London' yet are prepared to damage it economically? (å£300m last time) https://t.co/lW2FGlrgxB\",\n",
              "       \"Came across this fire video not mine..enjoy..Babes way of saying hi to me while he's in the fire truck??\\n#fireman #\\x89Û_ http://t.co/V5gTUnwohy\",\n",
              "       '@FlyOpineMonkey You mean Olympic ;-) \\nAlso its follow-up for Honshu Operation Coronet. \\nIn all: 1m Allied casualties 30m Japanese dead.',\n",
              "       '@bre_morrow neither of them even smoke so I dk what was going on lol',\n",
              "       '@Benjm1 @TourofUtah @B1Grego saw that pileup on TV keep racing even bleeding',\n",
              "       'In Kalmikya Astrakhan Volgagrad and Dagestan there is already no food left for the locusts\\n\\n  http://t.co/79Fw9zWxtP via @TIMEWorld',\n",
              "       'Japan Marks 70th Anniversary of Hiroshima Atomic Bombing http://t.co/3EV07PPaPn',\n",
              "       'Two giant cranes holding a bridge collapse into nearby homes http://t.co/q5q1x5Vcqk',\n",
              "       'Reddit Will Now Quarantine\\x89Û_ http://t.co/pkUAMXw6pm #onlinecommunities #reddit #amageddon #freespeech #Business http://t.co/PAWvNJ4sAP',\n",
              "       \"Slayer Reflects on Low Mayhem Festival Attendance King Diamond &amp; Jeff Hanneman's Passing http://t.co/lfw4iymsak\",\n",
              "       '@nxwestmidlands huge fire at Wholesale markets ablaze http://t.co/rwzbFVNXER',\n",
              "       'Get a load of this welfare loving sponge....a blight on society. http://t.co/rrZbZGO48N',\n",
              "       \"Until my death I'll forever rep the Jets.\",\n",
              "       'http://t.co/rOdpt33XFM EverSafe Emergency Auto Kit for all Weather Unsafe hazardous rush-hour gridlock jumper-ca\\x89Û_ http://t.co/0BVK5tuB4J',\n",
              "       \"The ol' meltdown victory for the Mets.\",\n",
              "       '@AshGhebranious civil rights continued in the 60s. And what about trans-generational trauma? if anything we should listen to the Americans.',\n",
              "       'Happy birthday @lesley_mariiee ?? I miss you so much &amp; i hope you have a great birthday!!????',\n",
              "       \"Evacuation drill at work. The fire doors wouldn't open so i got to smash the emergency release glass #feelingmanly\",\n",
              "       'Learning from the Legacy of a Catastrophic Eruption - The New Yorker http://t.co/t344PhNpy9',\n",
              "       'This thunder is beautiful',\n",
              "       'U.S. Forest Service says spending more than half of budget on fires: By Ian Simpson\\x89Û_ http://t.co/UyYYrKd6q3',\n",
              "       'USGS reports a M1.94 #earthquake 5km S of Volcano Hawaii on 8/6/15 @ 1:04:01 UTC http://t.co/Njd28pg9Xv #quake',\n",
              "       'So this storm just came out of no where. .fuck me its cool',\n",
              "       'Rene Ablaze &amp; Jacinta - Secret 2k13 (Fallen Skies Edit) - Mar 30 2013  https://t.co/7MLMsUzV1Z',\n",
              "       'Some great footage of STRONG work from San Bernardino County Fire who is also working the wild fires right now.... http://t.co/QCYQHvn2Ha',\n",
              "       'If I fall is men GOD @Praiz8 is d bomb well av always known dat since 2008 bigger u I pray sir',\n",
              "       \"Just came back from camping and returned with a new song which gets recorded tomorrow. Can't wait! #Desolation #TheConspiracyTheory #NewEP\",\n",
              "       '4Yygb mhtw4fnet\\n\\nThousands evacuated as Taiwan prepares for strongest typhoon of 2015 - ABC Online',\n",
              "       \"#BREAKING: there was a deadly motorcycle car accident that happened to #Hagerstown today. I'll have more details at 5 @Your4State. #WHAG\",\n",
              "       'E1.1.2 Particulate=Break up of Solid Combust Fossil Fuel Voltaic Active Forest Fire Biological VOC=Petroleum CH4 Bacteria Decomposition',\n",
              "       'http://t.co/vYmnRnSThG: U.S. in record hurricane drought http://t.co/1mvSQG0XKE',\n",
              "       'now my nose is bleeding. the last one was like 10 years ago',\n",
              "       '@_DANGdaddy the sirens are telling you to get ready to TURN UP???????? http://t.co/qAQqrJv9gU',\n",
              "       \"@cwheate hahaha I'm half traumatised half hoping my labour is that easy ??\",\n",
              "       'Repulsive! Refugees-Victimiser-#Dutton Evangelical-Liar-#Abbott c/o #LNP on a dupe the press overdrive; #CHOPPERGATE!#BRONWYNBISHOP!#AUSPOL',\n",
              "       'The annihilation of Jeb Christie &amp; Kasich is less than 24 hours away..\\nPlease God allow me at least one more full day...',\n",
              "       'Cross-border terrorism: Pakistan caught red-handed again - The Times of India http://t.co/uiqsfgZoOx',\n",
              "       '@AberdeenFC @AberdeenFanPage \\n\\nGood luck to the ?????? tomorrow night \\n\\nGet some coefficient points plz \\n@Armageddon????',\n",
              "       'Crazy Mom Threw Teen Daughter a NUDE Twister Sex Party According To Her Friend50 =&gt;http://t.co/Hy5Pbe12TM http://t.co/c1nJpLi5oR',\n",
              "       'Police Officer Wounded Suspect Dead After Exchanging Shots',\n",
              "       \"1 pair new 27w 4''  ROUND LED Work Driving FLOOD Light Off-road ATV UTV - Full read by eBay http://t.co/d3P88xdLEc http://t.co/j2DDvh7fY0\",\n",
              "       '@dramaa_llama but otherwise i will stay trapped as the worst lilourry stan ever AND without zarry what am I left with? NARRY. NO THANKS.',\n",
              "       'Hiroshima survivors fight nuclear industry in Brazil \\x89ÛÒ video http://t.co/E7SHtYLbnL',\n",
              "       'Providence Health &amp; Services: Emergency Services Supervisor - Emergency Department... (#Kodiak AK) http://t.co/AQcSUSqbDy #Healthcare #Job',\n",
              "       'i hit my foot now my toe is bleeding ??',\n",
              "       'Can you recommend anyone for this #job? RN Emergency Services Full Time 3p - 3\\\\:30a Rose de Lima Campus - http://t.co/xQrLEWiA4x #Hiring',\n",
              "       'Alabama firefighters quarantined after possible Ebola exposure http://t.co/hzpX6vAQPZ reports http://t.co/L4W0PCorbs',\n",
              "       'I liked a @YouTube video http://t.co/YdgiUYdqgb Mini Pony packs a punch. Live report from the Salem County Fair on CBS3 Eyewitness',\n",
              "       'Truth...\\nhttps://t.co/h6amECX5K7\\n#News\\n#BBC\\n#CNN\\n#Islam\\n#Truth\\n#god\\n#ISIS\\n#terrorism\\n#Quran\\n#Lies http://t.co/B8iWRdxcm0',\n",
              "       \"@Azimel 'Screaming Mad Scientist deceased after tumbling over heels and falling into sinkhole during investigation'\",\n",
              "       '@Nervana_1 \\nAs per previous behaviour JAN/AQ would deal with the kidnapped hostages not particularly pleasantly if Div 30 fought JAN/AQ.',\n",
              "       'When you go to a concert and someone screams in your ear... Does it look like I wanna loose my hearing anytime soon???',\n",
              "       '@ameenshaikh3 by ur. logic if bridge didnt collapse then second train engine should cross bridge then  @sanjaynirupam @sureshprabhu',\n",
              "       \"Businesses are deluged with invoices. Make yours stand out with colo r or shape and it's lzkely to rise to the top of the pay' pile.\",\n",
              "       'Big Top Burning The True Story Of An Arsonist A Missing Girl \\x89Û_ : http://t.co/QxH1H61cwD .',\n",
              "       'He made such a good point. White person comings mass murder labelled as criminal minority does the same thing... http://t.co/37qPsSnaCv',\n",
              "       'The Danger and Excitement of Underwater Cave Diving http://t.co/8c3fPloxcr http://t.co/cBGZ9xuN2k',\n",
              "       '@115Film Doctor we must leave immediately the Core is unstable...The whole building is told to be evacuated. Take the research. We need...',\n",
              "       \"Lucas Duda is Ghost Rider. Not the Nic Cage version but an actual 'engulfed in flames' badass. #Mets\",\n",
              "       \"@Doylech They're refugees: 'people who have been forced to leave their country in order to escape war persecution or natural disaster'\",\n",
              "       \"Would a paramedic really do that? Leave someone inside a building that's about to collapse/blow up? @HalloIkBenWill\",\n",
              "       'Kosciusko police investigating pedestrian fatality hit by a train Thursday http://t.co/JILfbR0UfP',\n",
              "       \"@local_arsonist I guess u can say that it's just some shit I was thinking about\",\n",
              "       '@LegacyOfTheSith @SagaciousSaber @Lordofbetrayal Moved in a crescent formation small trails of dust left in their wake as they moved.',\n",
              "       \"Marketforce Perth named winner of Sirens round 2 for 'iiNet NBN Buffering Cat Shark' radio spot http://t.co/GGPERGLVKi\",\n",
              "       '@phiddleface NOT IF THERES A CHOKING HAZARD!!! ???? dont die before i get there!!',\n",
              "       'How many baskets did  A Charming Fatality by @tonyakappes11 get? http://t.co/xyav4T5n0O #Mystery #Paranormal',\n",
              "       'Trafford Centre film fans angry after Odeon cinema evacuated following false fire alarm   http://t.co/6GLDwx71DA',\n",
              "       'All injuries Pre Foster/Floyd. Those will be covered next week. https://t.co/zRZEjPEF5j',\n",
              "       'The devastation when you smash your phone ??????????????????????????',\n",
              "       \"@Zak_Bagans this is Sabrina my dad rescued her from some dude who kept her in a cage. We've had her since I was 4 http://t.co/1k2PhQcuW8\",\n",
              "       '@pxnatosil @RenuncieDilma  Fatality!',\n",
              "       'Do Your Own Thing: The Battle of Internal vs External Motivation: http://t.co/w9P3hAuHEi',\n",
              "       'Damn Wale knows how to ruin a song??',\n",
              "       '@YahooSchwab easy way to look good after the Ray Rice fiasco...that blew up',\n",
              "       'California is battling its scariest 2015 wildfire so far. http://t.co/Lec1vmS7x2',\n",
              "       'CW500: Dealing with disaster - http://t.co/jq9nJ6Gko3',\n",
              "       'Pandemonium In Aba As Woman Delivers Baby Without Face (Photos) http://t.co/8j4rdwyjWu http://t.co/9MkZPZfKL2',\n",
              "       'Interesting: MH370: Aircraft debris found on La Reunion is from missing Malaysia Airlines ... - ABC ... http://t.co/950xIJhnVH Please RT',\n",
              "       'The meaning I picked the one that changed my life: overcome fear behold wonder.\\n\\nTCC catch the light... endless... http://t.co/eeRkH8ljws',\n",
              "       'The 08/06/2015 AlabamaQuake seismic summary w/ #earthquake #news &amp; history http://t.co/zM6VcZqvWk http://t.co/DKNlZNom6n',\n",
              "       'Photo: postapocalypticflimflam: Prodding around the rubble. http://t.co/Bgy4i47j70',\n",
              "       'Do you feel like you are sinking in unhappiness? Take the quiz: http://t.co/BTjPEO0Bto http://t.co/ClyJ32L333',\n",
              "       \"@chromsucks don't drown\",\n",
              "       \"@Mauds99 @JagexSupport https://t.co/uSH59Uq30j Change password through that link it'll kick the hijacker off.\",\n",
              "       'Time to obliterate this sin!',\n",
              "       'How \\x89ÛÏLittle Boy\\x89Û\\x9d Affected the People In Hiroshima \\x89ÛÒ Eyewitness Testimonials http://t.co/mUAnfWcRW9',\n",
              "       'Seeing that army of whitewalkers was the very first thing that has slightly intrigued me on GoT so far',\n",
              "       'Reality Training: Train falls off elevated tracks during windstorm http://t.co/qzRciNaF5z',\n",
              "       \"Reddit's new content policy goes into effect many horrible subreddits banned or quarantined http://t.co/4oNvxncz8w http://t.co/tnggXNm6k8\",\n",
              "       'Well done Celtic Fingers crossed for Aberdeen tomorrow night! \\nArmageddon eh.... ??',\n",
              "       'Refugio oil spill may have been costlier bigger than projected http://t.co/GusrAmzp1s #news',\n",
              "       'Dakota Skye gets horny with some porn then gets her juicy pussy pounded http://t.co/qew4c5M1xd View and download video',\n",
              "       '2 Injured 1 missing in bridge collapse in central Mexico - Fox News Latino http://t.co/l0UnaFLy0Y',\n",
              "       '@gilmanrocks7 wow. Where is this? For the rest of the summer I usually have to worry about forest fires. Calgary is about 8 hours away.',\n",
              "       'holy crap @KingMyth1999 my phone just exploded. haha',\n",
              "       \"8th person dies in NY Legionnaires' disease outbreak http://t.co/fJdM8QHYAI #SEBEE\",\n",
              "       'The date for the release of EP03 DESOLATION is set. Stay tuned for more info while we finalise the schedule. #alt #electro #rock #comingsoon',\n",
              "       '_\\n?????RETWEET\\n???????\\n?????FOLLOW ALL WHO RT\\n???????\\n?????FOLLOWBACK\\n???????\\n?????GAIN WITH \\n???????\\n?????FOLLOW ?@ganseyman #RT_4_A_MENTION\\n#TY',\n",
              "       '#computers #gadgets Two giant cranes holding a bridge collapse into nearby homes http://t.co/UZIWgZRynY #slingnews',\n",
              "       \"If Ryan doesn't release new music soon I might explode\",\n",
              "       'London Life: photos of a beautiful bombed-out Britain http://t.co/2RAcaiVFfq #arts',\n",
              "       'I was on my way to Gary but all the Chicago entrances was closed due to a bridge collapsed ?????? I hope they let us through tomorrow',\n",
              "       'being stuck on a sleeper train for 24 hours after de-railing due to a landslide was most definitely the pit of the trip',\n",
              "       'THE LINKS TO WATCH THE SHOW BETTER WORK OR I MIGHT ELECTROCUTE SOMEONE',\n",
              "       '@anellatulip and put the taint there and that all that the magisters did was to open the gates and let the blight get away from it',\n",
              "       'Islamic State group in Egypt threatens to kill Croat hostage http://t.co/NzIfztCUGL',\n",
              "       'Severe T-storm Warning for Union County ~3:45pm. Top threats include heavy rain lightning &amp; damaging winds. http://t.co/XWOevMK0aA',\n",
              "       'Air Group is here to the rescue! We have 24/7 Emergency Service! Learn more about it here - http://t.co/9lyx7zMtHE http://t.co/5PbC96rTMJ',\n",
              "       'How to prepare your #property for a #storm:\\n\\nhttp://t.co/KhYqQsi6My http://t.co/G6Vs3XEinb',\n",
              "       \"Training grains of wheat to bare gold in the August heat of their anger I'm the no trespass lest you seek danger.\",\n",
              "       \"seriously look like a get electrocuted after I blow dry my hair it's really attractive ??\",\n",
              "       \"I SCREAMED 'WHATS A CHONCe' http://t.co/GXYivsWki7\",\n",
              "       '@GoP establishment is working overtime to derail #DONZILLA... @realDonaldTrump #Trump2016  https://t.co/XVaOQo4EgR',\n",
              "       '@twilightfairy flattened frog?',\n",
              "       \"@BookTubeAThon A world in which people aren't dying from natural and supernatural disaster and war most likely.\",\n",
              "       \"@reriellechan HE WAS THE LICH KING'S FIRST CASUALTY BLOCK ME BACK I HATE YOU! http://t.co/0Gidg9U45J\",\n",
              "       'Listen LIve: http://t.co/1puLaekxcq #Author #Interview Beth Underwood of #Gravity on #Military #Mom #TalkRadio',\n",
              "       'Update: I survived. No canoe. \\n\\nMay have been the fastest feed out in history though.',\n",
              "       '@DavidVonderhaar if you loved me even a little youd put demolition in bo3',\n",
              "       'Confirmed the debris from MH370 ??',\n",
              "       '70 Years After Atomic Bombs Japan Still Struggles With War Past: The anniversary of the devastation wrought b... http://t.co/vFCtrzaOk2',\n",
              "       'The Guardian view on the Hiroshima legacy: still in the shadow of the bomb | Editorial: The world longs to cas... http://t.co/ct2JUtvYTg',\n",
              "       \"the windstorm blew thru my open window and now my bong is in pieces just another example of nature's indifference to human suffering\",\n",
              "       'Texas Seeks Comment on Rules for Changes to Windstorm Insurer http://t.co/BNNIdfZWbd',\n",
              "       \"Next May I'll be free...from school from obligations like family.... Best of all that damn curfew...\",\n",
              "       'Just got sent this photo from Ruby #Alaska as smoke from #wildfires pours into a school ',\n",
              "       \"@fewmoretweets all lives matter. Just not a fan of burning down buildings and stealing from your neighbors to 'protest'\",\n",
              "       \"Hollywood Movie About Trapped Miners Released in Chile: 'The 33' Hollywood movie about trapped miners starring... http://t.co/tyyfG4qQvM\",\n",
              "       \"My portable closet has collapsed 3x and it finally broke and my mom said 'maybe u should get rid of some clothes' lol how about no\",\n",
              "       'Kayla is about to electrocute herself.',\n",
              "       'My Dad a screaming coach always gave his vocal chords quite the workout on the field. http://t.co/axVQ80RbYJ #FunnyDadCoach',\n",
              "       \"Simmering beneath #NHL good times the league's own concussion issues @PioneerPress\\n\\nhttp://t.co/zl7FhUCxHL\",\n",
              "       \"If you fill your mind with encouragement and positivity then it won't take you hostage. Be careful of your content\",\n",
              "       '@tomarse99 they all are intending to go. Just waiting for winds to drop. Siren just gone off to signal they allowed to leave arena.none gone',\n",
              "       'Anyone else think that Stephen sounds like Andy Dick when he gets excited? The difference being... I actually like Stephen. #MasterChef',\n",
              "       'Seen on Fahlo:#WCW All Hail the QueenåÊ?? http://t.co/oLpBmy9xw9 #MTVHottest Justin Bieber http://t.co/ON18cqGcoA',\n",
              "       'Plans by former First Lady and wife of ex-President Goodluck Jonathan Dame Patience Jonathan to hijack the All... http://t.co/HaShGQAFic',\n",
              "       'I let another love crash and burn',\n",
              "       '@Adanne___ kindly follow back',\n",
              "       '@SaintRobinho86 someone has to be at the bottom of every league. Tonight clearly demonstrated why the Lions are where they are - sunk!',\n",
              "       \"We're #hiring! Read about our latest #job opening here: Emergency Department Psychiatric RN (.90 FTE Day) - http://t.co/zOEpZsOkY1\",\n",
              "       'The episode where Trunks annihilated Freiza is the cleanest shit ever. He showed that nigga no mercy.',\n",
              "       'Breakfast links: Work from home: Derailed: An empty train derailed at Smithsonian this morning suspending ser... http://t.co/iD4QGqDnJQ',\n",
              "       'Fukushima: The Story of a Nuclear Disaster http://t.co/ikpnGs3dTi http://t.co/lJHgSdRAEZ',\n",
              "       'Deaths 3 http://t.co/nApviyGKYK',\n",
              "       'I wanna set some shit on fire.',\n",
              "       'Stuart Broad Takes Eight Before Joe Root Runs Riot Against Aussies',\n",
              "       '@nagel_ashley @Vicken52 @BasedLaRock @goonc1ty rip the world... its burning',\n",
              "       'Severe Thunderstorm Warning for Oklahoma County until 10:30pm. Radar here: http://t.co/2HV2y2M2oZ #okwx',\n",
              "       \"Oops: Bounty hunters try to raid Phoenix police chief's home: http://t.co/yPRJWMigHL -- A group of armed bounty... http://t.co/3RrKRCjYW7\",\n",
              "       'Someone split a mudslide w me when I get off work',\n",
              "       '13 security personnel killed in Iraq suicide bombing | http://t.co/IbAZRHlSUr http://t.co/B6wWq2nYQI',\n",
              "       '@ashberxo @mind_mischief the removal of all traces of something; obliteration.',\n",
              "       '@cspanwj If 90BLKs&amp;8WHTs colluded 2 take WHT F @USAgov AUTH Hostage&amp;2 make her look BLK w/Bioterrorism&amp;use her lgl/org IDis ID still hers?',\n",
              "       \"@heebsterrr_ I remember the heat wave the year I went bruh and they don't have AC ????\",\n",
              "       'IM GONNA GET NAKED AND SMOKE MY CIGARETTE someone call me radneck or is it just too hot in here',\n",
              "       '@SonofLiberty357 all illuminated by the brightly burning buildings all around the town!',\n",
              "       'Granted like half my town floods when it rains but still whatever',\n",
              "       'The Catastrophic Effects of Hiroshima and Nagasaki Atomic Bombings Still Being Felt Today http://t.co/TzxeG4gOkD',\n",
              "       'collapsed the moment i got home last night lol',\n",
              "       'The #tubestrike is because TFL workers may have trouble planning downtime. I hope none need emergency services. http://t.co/iCSFDSiFqb',\n",
              "       \"Winter Desolation of Death is also on Tumblr:  http://t.co/93DM6gnWwC  Al Necro's reviews interviews &amp; more!\",\n",
              "       \"Hollywood Movie About Trapped Miners Released in Chile: 'The 33' Hollywood movie about trapped miners starring... http://t.co/x8moYeVjsJ\",\n",
              "       '#science Now that a piece of wreckage from flight MH370 has been confirmed on RÌ©union Island is it possible t...  http://t.co/uqva3dfbCA',\n",
              "       '@DwarfOnJetpack I guess I can say you and me might have one thing in common my biological father made me this way to be his weapon',\n",
              "       'Earthquake drill ??',\n",
              "       'As a result of heavy rains in #Bangladeshaffected lands are inundated by flood waters-land looks like rivers at high tide #BangladeshFlood',\n",
              "       'Sometimes in space celestial bodies with separate trajectories that intertwine find themselves in a dance rather than a collision course.',\n",
              "       'Obama Declares Disaster for Typhoon-Devastated Saipan: Obama signs disaster declaration for Northern Marians a... http://t.co/9i6CrCRq2m',\n",
              "       'Apply now to work for Dilawri as #BODY #SHOP/COLLISION CENTRE MANAGER in #Vancouver #jobs http://t.co/Vg7jnaH0iW http://t.co/ksHsgWGhfJ',\n",
              "       'http://t.co/wspuXOrEWb  Cindy Noonan@CindyNoonan-Heartbreak in #Baltimore #Rioting #YAHIstorical #UndergroundRailraod',\n",
              "       '@willienelson We need help! Horses will die!Please RT &amp; sign petition!Take a stand &amp; be a voice for them! #gilbert23 https://t.co/e8dl1lNCVu',\n",
              "       '@marksmaponyane Hey!Sundowns were annihilated in their previous meeting with Celtic.Indeed its an improvement.',\n",
              "       'Suncorp net profit rises to $1.13 billion in worst year of natural disaster claims http://t.co/cwZ37lNDVk',\n",
              "       \"@SoonerMagic_ I mean I'm a fan but I don't need a girl sounding off like a damn siren\",\n",
              "       \"When he lets you drive his truck and you start panicking because you had to 'flip that bitch'. ?????? http://t.co/W6O0uiZF8p\",\n",
              "       \"@canagal Good to hear it's back.. that storm's been given you guys trouble though :( ^SJ\",\n",
              "       'Video:  Fire burns two apartment buildings and blows up car in Manchester http://t.co/5BGcw3EzB5',\n",
              "       '.POTUS #StrategicPatience is a strategy for #Genocide; refugees; IDP Internally displaced people; horror; etc. https://t.co/rqWuoy1fm4',\n",
              "       'Anti Collision Rear- #technology #cool http://t.co/vpvJ5hRc1i Via Techesback #Tech',\n",
              "       'iembot_hfo : At 10:00 AM 2 NNW Hana [Maui Co HI] COUNTY OFFICIAL reports COASTAL FLOOD #\\x89Û_ http://t.co/Gg0dZSvBZ7) http://t.co/kBe91aRCdw',\n",
              "       \"Creation of AI\\nClimate change\\nBioterrorism\\nMass automation of workforce\\nContact with other life\\nWealth inequality\\n\\nYea we've got it easy\",\n",
              "       'Self destruction mode! ???? https://t.co/ZtYZhbvzqP',\n",
              "       'USGS EQ: M 1.9 - 5km S of Volcano Hawaii: Time2015-08-06 01:04:01 UTC2015-08-05 15:04:01 -10:00 a... http://t.co/3rrGHT4ewp #EarthQuake',\n",
              "       '500 deaths a year from foodborne illness... @frackfreelancs dears... @DECCgovuk @frackfree_eu @tarleton_sophie http://t.co/JSccX8k0jA',\n",
              "       'Investigators have said a Virgin Galactic spaceship crash was caused by structural failure after the co-pilot ... http://t.co/WC69XAJIs4',\n",
              "       \"Humboldt Cty Sheriff's Office has issued an evacuation advisory for 10 residence in the Lassics area... more info at http://t.co/ERUzBUQZYU\",\n",
              "       \"not a catastrophe at all I'm perfectly content. being the only one means nothing when I'm being controlled. text me if you got crap to say\",\n",
              "       '@MayorofLondon pls reduce cyclist deaths with a compulsory highway code test as with EVERY OTHER VEHICLE that uses a road. #notrocketscience',\n",
              "       \"@ManUtd @EmilymcfcHeslop \\n\\nWow just wow! \\n\\nIf any other club had blown all that money and fucked up a player like that they'd be pilloried!\",\n",
              "       'BBC Forced To Retract False Claims About Cyclone Pam http://t.co/tbbObvCotj via @wordpressdotcom',\n",
              "       \"@KlaraJoelsson Well I have seen it now! That's a bummer. We've had this heat wave tho... 43'c!! I'd prefer the rain... :P\",\n",
              "       'SEISMIC RISK: a COMPARISON between 2 case studies: CALABRIA AND MALTA http://t.co/HmRtqEykyI',\n",
              "       'My head gonna explode soon',\n",
              "       '@thomasvissman22 @KeithyyL Keithyy gettin burned outta the blocks and on social media.... http://t.co/dlkuFtLQnF',\n",
              "       'You Bitches Walking Around Like Yall Hot Shit &amp; Got Bed Bugs &amp; You Burning ????',\n",
              "       \"Diageo's CEO stresses that a board revolt at United Spirits has not impacted Indian operations http://t.co/STPOdA901U\",\n",
              "       \"First time getting into #gbbo2015 and physically gasped at the cake 'mudslide' incident already way too emotionally invested...\",\n",
              "       \"shit is hard to get over but sometimes the tragedy means it's over soulja..\",\n",
              "       '@nikistitz even the one that looked like a mudslide?',\n",
              "       'Ignition Knock (Detonation) Sensor ACDelco GM Original Equipment 213-924 http://t.co/HpZHe0cjvF http://t.co/SaOhVJktqc',\n",
              "       '#DW Hundreds feared drowned as migrant boat capsizes off Libya: Hundreds of migrants are\\x89Û_ http://t.co/VOX99FWKcX',\n",
              "       'Trafford Centre film fans angry after Odeon cinema evacuated following false fire alarm http://t.co/pFMn63VnAm http://t.co/vKwqbOJFJc',\n",
              "       'Do you have a plan? Emergency Preparedness for #Families of\\nChildren with Special Needs  http://t.co/RdOVqaUAx5  #autism #specialneeds',\n",
              "       'FedEx no longer to transport bioterror germs in wake of anthrax lab mishaps http://t.co/c0p3SEsqWm via @usatoday',\n",
              "       '3 Bedrooms 1 Baths for sale in 29 Palms CA. (http://t.co/QMS8RRESsd)\\n(YouTube Video:... http://t.co/zLa30jCsSQ',\n",
              "       'Do you know anyone looking to move to Hammond OR? Share this listing! http://t.co/3xn1soh4Bb',\n",
              "       'annihilating quarterstaff of annihilation',\n",
              "       '@MeyerBjoern @thelonevirologi @MackayIM of a major American newspaper running a series on all the alleged bioterrorism research going on 2/n',\n",
              "       \"Lunch for the crew is made. Night night it's been a long day! \\n~Peace~Love~Rescue~\",\n",
              "       '@BaseballQuotes1 I have a 32 inch dynasty',\n",
              "       'New Mad Max Screenshots Show Off a Lovely Dust Storm Combat Magnum Opus http://t.co/VRpmplcZCY',\n",
              "       'The hurricane mixxtail kinda tastes like the watermelon four loko. ???????? @brittsand9',\n",
              "       \"100  1' MIX NEW FLAT DOUBLE SIDED LINERLESS BOTTLE CAPS YOU CHOOSE MIX FLATTENED - Full re\\x89Û_ http://t.co/wRNpywyaLj http://t.co/Qv7IYdoVx9\",\n",
              "       '#Earthquake #Sismo M 1.9 - 15km E of Anchorage Alaska: Time2015-08-06 00:11:16 UTC2015-08-05 16:11:16 -08:00 ... http://t.co/Z0VeR1hVM9',\n",
              "       'Strong Thunderstorm 4 Miles East of Pickens Moving NE At 20 MPH. Pea Size Hail and Wind Gusts Up to 40 MPH... #scwx http://t.co/TsaLetFtkt',\n",
              "       'Refugio oil spill may have been costlier bigger than projected http://t.co/7L6bHeXIXv | https://t.co/eMOSrMUvQa',\n",
              "       'A Cessna airplane accident in Ocampo Coahuila Mexico on July 29 2015 killed four men including a State of Coahuila government official.',\n",
              "       'Firefigthers Evacuate from Northampton Township House Fire http://t.co/hPplD1jHtZ',\n",
              "       'Have you heard \\x89Û÷05 LOVE TO LOVE YOU....HEAT WAVE VOL 5\\x89Ûª by George deejayempiresound on #SoundCloud? #np https://t.co/rQiuqXNM2X',\n",
              "       'Two hours to get to a client meeting. Whirlwind of emotions with this #tubestrike',\n",
              "       '#Islamic #state issue a new holiday #brochure lovely swimming pool for drowning in shooting range and the downside it costs a #bomb',\n",
              "       \"Woman's GPS app guides rescuers to injured biker in Marin County - SFGate http://t.co/Iz9U8BhfAA\",\n",
              "       'Israeli forces raid home of alleged car attack suspect http://t.co/3GVUS8NPpy #palestine',\n",
              "       'like little boy you better sit your ass down stop screaming at my mother stop pulling your hair &amp; crying like a 3 year old &amp; grow tf up',\n",
              "       'I liked a @YouTube video from @zaire2005 http://t.co/MulRUifnN1 SPECIALGUEST CRAPGAMER RECAP MICROSOFT DESTROYED SONY AT GAMESCOM',\n",
              "       'RT NotExplained: The only known image of infamous hijacker D.B. Cooper. http://t.co/JlzK2HdeTG',\n",
              "       'Suicide Bomber Kills 13 At Saudi Mosque http://t.co/oZ1DS3Xu0D #Saudi #Tripoli #Libya',\n",
              "       'The Latest: More Homes Razed by Northern California Wildfire - ABC News http://t.co/AKnBtuyaef',\n",
              "       \"Can't believe more people in their mid 20's don't have high blood pressure. Life is stressful. #DecisionsOnDecisions\",\n",
              "       'As a cycling fan I feel sorry for world athletics #doping is a blight exacerbated monetary reward. A lot of soul searching will be required',\n",
              "       '17 people displaced after 3-alarm fire tore through 2 apartment buildings on Second Street in Manchester. -- http://t.co/NzqwTCYidv #MHT',\n",
              "       \"Don't argue cheap now. You're better than that. ??\",\n",
              "       'This real shit will damage a bitch',\n",
              "       'Residents in the central part of Ocean City heard from engineers about flood mitigation options Tuesday #OCNJ... http://t.co/jzPrCIqa9D',\n",
              "       'Ignition Knock (Detonation) Sensor Connector-Connecto MOTORCRAFT WPT-410 http://t.co/bSmJ2HVgwD http://t.co/bXalnEdy49',\n",
              "       'People are finally panicking about cable TV http://t.co/BBjLs1fsaD',\n",
              "       'My phone looks like it was in a car ship airplane accident. Terrible',\n",
              "       \"China's Stock Market Crash: Are There Gems In The Rubble? http://t.co/BqBLWiw08g #ROIMentor #yycwalks\",\n",
              "       '#Laos flooding -10 villages underwater World Vision responding http://t.co/8fvQRizOUX',\n",
              "       'KUALA LUMPUR (Reuters) - A piece of a wing that washed up on an Indian Ocean island beach last week was part of the wreckage of Malaysian A',\n",
              "       'I love The body shop\\x89Ûªs bags??\\n\\n#cutekitten #catsofinstagram #summerinsweden #katt #katterpÌ´instagram #dumle #dagens\\x89Û_ http://t.co/p4ZFXdnbcH',\n",
              "       'Foto: \\x89ÛÏLove isn\\x89Ûªt everything to me anymore. The last album I made [Red] was a devastated record because... http://t.co/T5agPS7T2B',\n",
              "       '@RaynbowAffair Editor In Chief @DiamondKesawn Releases Issue #7 http://t.co/ge0yd3mKAv of #RAmag. #Fashion #Models and #Mayhem',\n",
              "       '2 great new recipes; mudslide cake and so sorry stew! #GBBO',\n",
              "       \"@MeryCormier haha! Exactly! Cosima is definitely in the hot seat. Lol\\n'It's Shay.' is no different from a bomb that got exploded.\",\n",
              "       \"http://t.co/iGXRqPoTm7 Bin Laden family plane crashed after 'avoiding microlight and landi... http://t.co/3kPBU6hGt5 #PeritoEnGrafoscopia\",\n",
              "       'Holy fuck QVC bitch just got burned so hard.',\n",
              "       'I liked a @YouTube video http://t.co/itnKBxgWLH Lexi Belle for Oklahoma tornado victims',\n",
              "       \"VICTORINOX SWISS ARMY DATE WOMEN'S RUBBER MOP WATCH 241487 http://t.co/yFy3nkkcoH http://t.co/KNEhVvOHVK\",\n",
              "       \"@_AsianShawtyy ?????????? I'm sorry. But I'm out\",\n",
              "       'A random hole just broke out in the street ?? http://t.co/dWU8QqYs0v',\n",
              "       'THE CHEMICAL BROTHERS to play The Armory in SF tomorrow night!: EMERGENCY BAY AREA EDM ANNOUNCEMENT \\x89ÛÒ THE CHEM... http://t.co/3LN8TrHw6X',\n",
              "       'Photo: boyhaus: Heaven sent by JakeåÊ \\x89ÛÏAfter a very warm morning on Montana\\x89Ûªs Madison River a early evening... http://t.co/FId3z4X3s5',\n",
              "       'Bomb squad set to detonate backpack Antioch Tenn. theater gunman had on him officials say - @Tennessean http://t.co/eb74iieIWn',\n",
              "       'CDC has a pretty cool list of all bioterrorism agents :3',\n",
              "       'Brace yourself @samaritans by Sunday evening you will inundated with thousands of calls from depressed @Arsenal fans http://t.co/HexPc77otN',\n",
              "       'Just burst out in actual tears of joy when Cain survived #SummerFate @emmerdale',\n",
              "       \"#IranDeal most members of Congress who don't want this deal don't have any kids who would b coming home in body bags. War makes them money\",\n",
              "       'Aftershock \\x89ã¢ (2010) Full\\x89ã¢ Streaming - YouTube http://t.co/vVE3UsesGf',\n",
              "       'Kaduna Begins Demolition Of Buildings On Govt School Lands\\nhttp://t.co/77cIWXABVA\\x89Û_t-school-lands/',\n",
              "       'I chose you so if we can search for the joy of just the two of us We\\x89Ûªll be near smiles no matter what cold flames burn our bod #PortgassDK',\n",
              "       'Another White mass murderer. Thank God I live in California.  https://t.co/4COg0OTiWn',\n",
              "       'Weyburn Police Warn Public after Fentanyl Deaths in Province - http://t.co/8bqjtp6iD5 http://t.co/8kjS7ZqAjS',\n",
              "       'Let\\x89Ûªs talk some more about your goof guild Saunders. Come right up here on stage. https://t.co/hkBxxvd9Iw',\n",
              "       '@ColdMpress You up to commiting mass murder tonight?',\n",
              "       'SB57 [NEW] Deepwater Horizon Oil Spill distribution of funds from BP settlement road and bridge projects in Bal... http://t.co/dKpsrkG6pc',\n",
              "       'Jesus Christ that ball was fucking crushed!! #BlueJays',\n",
              "       'There might be casualties tomorrow',\n",
              "       'when you are quarantined to a little corner bc you are too sick to be in the office but work is piling up and they need you kinda day',\n",
              "       '#hot  C-130 specially modified to land in a stadium and rescue hostages in Iran in 1980 http://t.co/W0EXzAD5Gc #prebreak #best',\n",
              "       '@MsMigot wow what convincing &amp; compelling evidence to change my view that is. climate change deniers I tend to destroy by giving...EVIDENCE',\n",
              "       '@NathanFillion Hardly! ??',\n",
              "       \"Please please u gotta listen to @leonalewis # essenceOfMe and thunder it's major\\n#she's #back ????????\",\n",
              "       'Build your own kingdom and lead your army to victory! https://youtu.\\n\\nStart g this friend code: LZKTJNOX http://t.co/zZ0cEwEw64',\n",
              "       'Epicentre - Cydia Tweak - https://t.co/WKmfDig3nT | Thanks to @phillipten.',\n",
              "       \"\\x89ÛÓ bulletproof and black like a funeral; the world around us is burning but we're so cold. http://t.co/uqssnAAtTu\",\n",
              "       'Rescuers recover body of 37-year-old Calgary man from lake near Vulcan \\n                            \\n             \\x89Û_ http://t.co/gAEhr9bHEk',\n",
              "       '@BizzleMahomie SCREAMING',\n",
              "       'PAGASA 7:12am: YELLOW warning - Panay Island Guimaras Negros. Possible floods in low-lying areas &amp; landslides in mountainous areas.',\n",
              "       'The Murderous Story Of America\\x89Ûªs First Hijacking http://t.co/LK5uqKOP1e',\n",
              "       'FedEx no longer to transport bioterror germs in wake of anthrax lab mishaps http://t.co/MqbYrAvK6h',\n",
              "       \"Erdogan's Bloody Gambit: on July 20 a suicide bombing in Turkey took the lives of 31 socialists in SuruÌ¤ http://t.co/z6xAUIDRXu @Shareaholic\",\n",
              "       'Wrinkled the face of deluge as decayed;',\n",
              "       '@czallstarwes more like demolition derby ??',\n",
              "       '\\x89Û÷Good Samaritans\\x89Ûª shot in horror hijacking http://t.co/V5yUUALoqw #263Chat #Twimbos ZimpapersViews',\n",
              "       'No civilian population ever deserves demolition may we never forget &amp; learn from our mistakes #Hiroshima',\n",
              "       '@clnv_ Yes Yes! I will. I dont wanna ruin my life. Lol',\n",
              "       'Spot Flood Combo 53inch 300W Curved Cree LED Work Light Bar 4X4 Offroad Fog Lamp - Full re\\x89Û_ http://t.co/fDSaoOiskJ http://t.co/2uVmq4vAfQ',\n",
              "       'STAR WARS POWER OF THE JEDI COLLECTION 1 BATTLE DROID HASBRO - Full read by eBay http://t.co/yI30ZgiZsW http://t.co/2jGVhw7YZs',\n",
              "       '320 [IR] ICEMOON [AFTERSHOCK] | http://t.co/THyzOMVWU0 | @djicemoon | #Dubstep #TrapMusic #DnB #EDM #Dance #Ices\\x89Û_ http://t.co/83jOO0xk29',\n",
              "       'Savings and sewing in Guatemala: Savings and sewing in Guatemala. When a natural disaster hit seamstress Elvia...  http://t.co/jdx9OX2kIk',\n",
              "       'Critters climate and two plague deaths in Colorado http://t.co/DXkt2Shuj2',\n",
              "       'Cleared:  Accident with property damage on #NY35 EB at NY 100',\n",
              "       'Boy 11 charged with manslaughter in shooting death of Elijah Walker http://t.co/HUrIIVFDKC',\n",
              "       \"When u get mugged with ur gf u come up with the best excuses not to look like a bitch 'I wanted to fight but what if he held u hostage?'\",\n",
              "       'Emotionally I am destroyed',\n",
              "       '@eeenice221 true because of the truck that caught fire?',\n",
              "       \"Rand Paul's Debate Strategy 'demolish Some other bad ideas out there or point out maybe that there are some em... http://t.co/qzdqRBr4Lh\",\n",
              "       '@DavidVonderhaar At least you were sincere ??',\n",
              "       'Wrecked tired but not gonna be asleep before 3??',\n",
              "       'My room looks like a tornado passed through it and my OCD is not having it.',\n",
              "       \"'@CatoInstitute: The causes of federal failure are deeply structural and they will not be easily solved: http://t.co/H2XcaX4jbU'\",\n",
              "       'My sister Rl Burned All Her Boyfriend Clothes Recorded It &amp; Sent It to him ????',\n",
              "       '@Dirk_NoMissSki yea but if someone faints why are they panicking?.. thats basic stuff ??',\n",
              "       'Stream HYPE HURRICANE',\n",
              "       '@David5Fernandez @theblaze trump will get absolutely demolished in a general election.',\n",
              "       \"Pam's Barry Island wedding meltdown ??????????\",\n",
              "       \"Julian Knight - @SCVSupremeCourt dismisses mass murderer's attempt to increase prisoner pay. Challenged quantum of 5% increase 2013.\",\n",
              "       'Enugu Government to demolish illegal structures at International Conference Centre: Enugu State government app... http://t.co/MsKn6D3eKH',\n",
              "       'Related News: \\n\\nPlane Wreckage Found Is Part Of Missing MH370 Malaysia Prime Minister?Says\\n - World - BuzzFeed |  http://t.co/qSiPL1C9Fa',\n",
              "       '1.3 #Earthquake in 9Km Ssw Of Anza California #iPhone users download the Earthquake app for more information http://t.co/V3aZWOAmzK',\n",
              "       'Day 2. Liquidation of emergency at chemical object. #USAR2015 #USAR15 #RUOR #??????????? http://t.co/gGTmDqUdDo',\n",
              "       '@foxnewsvideo @AIIAmericanGirI @ANHQDC So ... where are the rioters looters and burning buildings????  WHITE LIVES MATTER!!!!!!',\n",
              "       'Watch This Airport Get Swallowed Up By A Sandstorm In Under A Minute http://t.co/mkWyvM3i8r',\n",
              "       'Child Shoulder Bags PVC Shoulder Book Bag Cartoon Cross Body Bags for Girls http://t.co/7l9qAzLjVg http://t.co/Q0hSyfrwEC',\n",
              "       'Learning from the Legacy of a Catastrophic Eruption http://t.co/25sY9Y295L via @newyorker',\n",
              "       'Got it winning by a landslide those the perfect words cause I got it out the mud.....',\n",
              "       \"@AvBronstein @Popehat @instapundit @KurtSchlichter Also are you aware of the casualty estimates for an invasion of Japan's home islands?\",\n",
              "       '@Kaotix_Blaze craving u',\n",
              "       '#download &amp; #watch Demolition Frog (2002) http://t.co/81nEizeknm #movie',\n",
              "       '#HSE releases annual workplace facilities data. Have a look | http://t.co/h4UshEekxm http://t.co/jNHNX3oISN',\n",
              "       'Beyonce Is my pick for http://t.co/nnMQlz91o9 Fan Army #Beyhive http://t.co/o91f3cYy0R 66',\n",
              "       \"If you dotish to blight your car go right ahead. Once it's not mine.\",\n",
              "       'Ted Cruz fires back at Jeb &amp; Bush: \\x89ÛÏWe lose because of Republicans like Jeb &amp; Mitt.\\x89Û\\x9d [Video] http://t.co/FgDEh56PLO',\n",
              "       \"#NissanNews : Trauma Alert and 1 Child Among 6 Hospitalized After 2-Car Wreck on A1A Near Bing's Landing: The ... http://t.co/9dWyJqvFY4\",\n",
              "       'Message boards will display updated traffic fatalities (up from 582) and new message beginning today: Traffic deaths 616 - Slow for Workers.',\n",
              "       'Refugio oil spill may have been costlier bigger than projected http://t.co/Rqu5Ub8PLF',\n",
              "       'I really wanna brownie batter blizzard ??',\n",
              "       'DHS Refuses to Call Chattanooga \\x89Û÷Islamic Terrorism\\x89Ûª out of respect for MUSLIMS ... http://t.co/u8RGB51d22 via @po_st http://t.co/2tnu95VGFE',\n",
              "       '@RebeccaforReal accepts Wisconsin Emergency Response Plan on behalf of @GovWalker #nbc15 http://t.co/Pis0aiVRbR',\n",
              "       'Untangle yourself from requiring your partner to fill your needs and how to love without fear #BestTalkRadio Listen http://t.co/8j09ZUTxWT',\n",
              "       \"@SirBrandonKnt exactly. That's why the lesnar/cena match from summerslam last year was so great because Brock annihilated a guy who's\",\n",
              "       '@WeAreTheNews please support this Please cosponsor S. 928 and support aid for sick and injured 9/11 responders! #renew911health',\n",
              "       \"Anyone missing their license plate? Two stolen ones found on terrorist's car... http://t.co/CWGCciw3V6\",\n",
              "       \"MH370 victim's family furious the media was told about wreckage confirmation first http://t.co/carMqiVkwU\",\n",
              "       '#hot  Funtenna: hijacking computers to send data as sound waves [Black Hat 2015] http://t.co/cOMuiOk3mP #prebreak #best',\n",
              "       'Your PSA for the day: If a fire truck is behind you with lights going MOVE OVER!!! so they can get to their call.',\n",
              "       '@GettingLost @JennEllensBB @Muncle_jim It said they had superficial wounds and it was the pepper spray that did the most damage.',\n",
              "       'Waldo Thunder 12U Cooperstown Dreams Park 2015 dedicated to #JoeStrong #GoKitGo http://t.co/eSK4yvzvaP',\n",
              "       '@BrodyFrieling @hanna_brooksie photo bombed',\n",
              "       'Watch This Airport Get Swallowed Up By A Sandstorm In Under A Minute http://t.co/brctMNybjy',\n",
              "       'Coastal German Shepherd Rescue OC shared a link... http://t.co/35QWnGLkOS #animalrescue | https://t.co/Is2iDC3UBJ',\n",
              "       'What progress we are making.  In the Middle Ages they would have burned me.  Now they are content with burning my books.  -Sigmund Freud',\n",
              "       'One Direction Is my pick for http://t.co/iMHFdaOWRd Fan Army #Directioners http://t.co/4fTZJk94Dt',\n",
              "       'NWS has issued a Severe Thunderstorm Warning for Oklahoma-OK until 10:30 PM',\n",
              "       '@TexansDC @kylekrenek @Zepp1978 @Frobeus_NS Never thought I could have that much fun saving (and shooting) teddy bear hostages. lol',\n",
              "       \"i hate people who tweet 'receipts' but KNOW its wrong\\n\\nbut they wont take it down bc it 'blew up'\\nliterally gtfo you're that desperate\",\n",
              "       \"Myanmar's president urged people to leave a low-lying southern delta region on Thursday with rain water that has inundated much of the coun\\x89Û_\",\n",
              "       'World War II book LIGHTNING JOE An Autobiography by General J. Lawton Collins http://t.co/R4khEH7iaf http://t.co/qSZgJfUutu',\n",
              "       'Loved Chicago so much that it game me Pink Eye. Now I sit and design in quarantine and in the dark.',\n",
              "       '.@AIGinsurance CEO: Divestitures and #Catastrophe Losses Temper Q2 #Results http://t.co/2y2wZk1FrM',\n",
              "       'my vibrator shaped vape done busted',\n",
              "       'Obligatory middle of the night panic attack',\n",
              "       \"The Prophet (peace be upon him) said 'Save yourself from Hellfire even if it is by giving half a date in charity.'\",\n",
              "       'When Houston and NYC collide. ?? @pageparkescorp @chloeunguyen @laurensicle @charstevens97 @tiara_marei #gemma #bowe\\x89Û_ http://t.co/9wowPs78VD',\n",
              "       'Season 3 of New Girl was such a emotional train wreck I just wanted to cry laugh and eat a lot of ice cream',\n",
              "       '@BritishBakeOff This has opened up old baked alaskan shaped wounds. Too soon GBBO too soon... #neverforget',\n",
              "       'Panoramic Resources cuts jobs after seismic event http://t.co/mUwmfJGzYh',\n",
              "       'The Witches of the Glass Castle. Supernatural YA where sibling rivalry magic and love collide #wogc #kindle http://t.co/IzakNpJeQW',\n",
              "       'TV program I saw said US air plane flew to uranium mine in Fukushima and attacked by machine gun when student army were digging it.',\n",
              "       'Truck crash on 40w at US70 in Lebanon is a fatality. Very sad. Expect long delays through the morning.',\n",
              "       'The one thing I like about here is thunder .. Heheh',\n",
              "       'This Looney Tunes-Blake Griffin commercial screams their making a Space Jam 2',\n",
              "       \"I feel like I should be panicking more as Idk I get my results back in a week... I'm Alarmingly calm\",\n",
              "       'UAE cool to Mideast heat-wave; rain watch latest [video]\\nNCMS issues warning of thundering rain poor visibility.... http://t.co/Tk65sKe0zm',\n",
              "       'Tension In Bayelsa As Patience Jonathan Plans To Hijack APC PDP http://t.co/epABiNcZmJ http://t.co/1SgzGtgfw9',\n",
              "       'Pic of 16yr old PKK suicide bomber who detonated bomb in Turkey Army trench released http://t.co/IUh718KCy0 http://t.co/9pQyx4xOOL',\n",
              "       'Industry Tryna Destroy @MeekMill cause he Exposed They Cash Cow...',\n",
              "       'Maid charged with stealing Dh30000 from police officer sponsor http://t.co/y35qtVDSOH | https://t.co/qhUJAjCTR5',\n",
              "       'Stay cautious. http://t.co/JeJC9XcTMp',\n",
              "       '@tammy_w1997 @ElijahMallari bleeding wild things running around the apartment while hes in work at the bar ????????',\n",
              "       'w--=-=-=-[ NEMA warns Nigerians to prepare for drought http://t.co/5uoOPhSqU3',\n",
              "       'Just burned the shit outta myself on my dirt bike ??',\n",
              "       'CLIMATE CONSEQUENCES: U.S. Forest Service Says Spending More Than Half Of Budget On Fires http://t.co/k0QtL8aODH http://t.co/zQBXe7x9Y7',\n",
              "       'Twister was fun https://t.co/qCT6fb8wOn',\n",
              "       'Stupid women nearly collided into me today after she came out of a junction not looking. Still kept coming towards me till I beep my horn',\n",
              "       'SoloQuiero Maryland mansion fire that killed 6 caused by damaged plug under Christmas tree report says - Into the flames: Firefighte...',\n",
              "       'There was a loud bang outside earlier and I check to find my dad on the floor after the chair he was sitting on broke http://t.co/uniJ1RVrRq',\n",
              "       'The cool kids asked me if I wanted to hang out after school so I had a panic attack and had to go to the hospital #autismawareness',\n",
              "       '#Metepec #Mexico - ?NIGHT DISASTER?...E(Oficial) @ #NitClub #mÌ¼sica #mÌ¼sica http://t.co/WTfJF9jjzs',\n",
              "       \"I can't wait to be beyond obliterated this weekend\",\n",
              "       'Emergency Response and Hazardous Chemical Management: Principles and Practices http://t.co/4sSuyhkgRB http://t.co/TDerBtgZ2k',\n",
              "       \"Wreckage 'Conclusively Confirmed' as From MH370: Malaysia PM: Investigators and the families of those who were... http://t.co/MSsq0sVnBM\",\n",
              "       'Reddit updates content policy promises to quarantine \\x89Û÷extremely offensive\\x89Ûª communities http://t.co/PLmIWOfpom',\n",
              "       'Large fire burning several buildings causing evacuations in downtown Hinton: http://t.co/mtMkiMwiyy',\n",
              "       '@punkblunts @sincerelyevelnn fall off a cliff into hell idc',\n",
              "       'Does anyone know why #murfreesboro #walmart was evacuated this evening? @dnj_com',\n",
              "       \"A quarter whirlwind. They don't see it coming.\",\n",
              "       'Ignition Knock (Detonation) Sensor-Senso Standard KS57 http://t.co/bzZdeDcthL http://t.co/OQJNUyIBxM',\n",
              "       'Owner of Chicago-Area Gay Bar Admits to Arson Scheme http://t.co/ZPxE3fMYNG #LGBT',\n",
              "       \"@noah_anyname That's where the concentration camps and mass murder come in. \\n \\nEVERY. FUCKING. TIME.\",\n",
              "       'I gained 3 followers in the last week. You? Know your stats and grow with http://t.co/TIyUliF5c6',\n",
              "       'Hollywood movie about trapped miners released in Chile http://t.co/JJL89F9O3V',\n",
              "       \"\\x89ÛÏ@SplottDave: @TeamPalestina That's about 28700 Palestinian homes demolished now by Israel since 1967 w/ 0 Israeli home demolished @POTUS\",\n",
              "       './.....hmm 12000 Nigerian refugees repatriated from Cameroon http://t.co/96p3hUJNTj /(',\n",
              "       'Obama declares disaster for typhoon-devastated Saipan: President Barack Obama has declared the Commonwealth of... http://t.co/4k8OLZv9bV',\n",
              "       'myGC: Broken powerlines evacuate Gold Coast tram suspend services http://t.co/6e7hHfeRz4',\n",
              "       \"Nuu that FAM?? fwt I'm Leave You In a Body bag??\",\n",
              "       '@kiranahmedd US military and Nato are fighting Talibans too',\n",
              "       'Reddit Will Now Quarantine Offensive Content: Reddit co-founder and CEO Steve Huffman has unveiled more specif... http://t.co/TDEUKJzzII',\n",
              "       'Only you can prevent forest fires. ???? http://t.co/rGYUaKc0dR',\n",
              "       \"suddenly it's off &amp; on gloomy &amp; thunder so loud it shakes the windows? Not ever on the Bay Area. Miss me w/that lol http://t.co/x4eCGGvnSN\",\n",
              "       'The Bush fires in CA are so crazy',\n",
              "       \"@DavidJordan88 @Stephanenny Except we don't know who started the riot or if it even makes sense to credit any particular individuals...\",\n",
              "       'Youth electrocuted in Khulna  | http://t.co/3EnyNdXpPm https://t.co/GQpi7jMKan via @sharethis',\n",
              "       'another day another excellent @_dangerousbeans porridge. seriously people. blood orange in porridge is phenomenal.',\n",
              "       'Injured Barcelona full-back Alba out of Super Cup http://t.co/jYiEgtnC6H',\n",
              "       'Love is the weapon for this wounded generation &lt;3',\n",
              "       '@Blizzard_Gamin ight',\n",
              "       \"'NO LENDER FEES FOR VETERANS OR FIRST RESPONDERS (PAST AND PRESENT)' on @LinkedIn https://t.co/9pmBTxmoAL\",\n",
              "       '@brobread looks like mudslide????',\n",
              "       'Death on Railway track: Why rains cannot take all the blame?: Derailment is not very common. Last year less th... http://t.co/jdkQC12tid',\n",
              "       'Debris confirmed from MH370; relatives hope for discovery of crash site http://t.co/rLFtjmHHvT via @Reuters #Video',\n",
              "       \"@Stretcher @Rexyy @invalid @Towel let's have babies??!\",\n",
              "       \"Cramer: Iger's 3 words that wrecked Disney's stock http://t.co/3G79prAyYc #cnbc #topnews\",\n",
              "       \"@Eganator2000 There aren't many Obliteration servers but I always like to play when there are :D\",\n",
              "       'Armageddon averted by El Patron\\n#UltimaLucha',\n",
              "       'Know them recognize them......then obliterate them! \\n#gym #gymflow #gymtime #team #assassins\\x89Û_ https://t.co/mUHj8CbdQb',\n",
              "       'He just wrecked all of you http://t.co/y46isyZkC8',\n",
              "       'Mourning notices for stabbing arson victims stir \\x89Û÷politics of grief\\x89Ûª in Israel http://t.co/Q4L7Dg56JM',\n",
              "       \"I\\x89Ûªve seen lots ask about this MT @JMCwrites #Pitchwars I asked for magic realism but not fantasy. What's the diff? http://t.co/64xR9LtNOH\",\n",
              "       'I moved to England five years ago today. What a whirlwind of time it has been! http://t.co/eaSlGeA1B7',\n",
              "       '@joshsternberg My feed seems to have a deluge once or twice during the week. It\\x89Ûªs fantastic.',\n",
              "       'Never fear quarrels but seek hazardous adventures. https://t.co/dlvZaay7qr',\n",
              "       'SYD traffic HAZARD Oil spill - BANKSTOWN Stacey St at Wattle St http://t.co/TZyHdBW9f5',\n",
              "       \"@GodOf_Mischief_ -of Loki's daggers she pulled it out and jammed it into Mina's thigh. When Mina screamed and grabbed at her leg sif-\",\n",
              "       '#cum explosion!\\n\\n@begforcum \\n@allday_cumshots \\n@cumcovered \\n@sexycumshots \\n@Cumtown\\n@BJ_Nutt\\n@cumslut_2\\n@GirlsLoveCum http://t.co/2CX1yjjoZ9',\n",
              "       \"i guess you can say ig's hopes went up in flames\",\n",
              "       \"The Hobbit Desolation of Smaug Thranduil 4' scale action figure loose Mirkwood - Full read\\x89Û_ http://t.co/nYeL2BUAro http://t.co/2zGIUpn06T\",\n",
              "       '@batfanuk we enjoyed the show today. Great fun. The emergency non evacuation was interesting. Have a great run.',\n",
              "       '16yr old PKK suicide bomber who detonated bomb in Turkey Army trench released http://t.co/n7Yst76ku3',\n",
              "       'MEG issues Hazardous Weather Outlook (HWO) http://t.co/3X6RBQJHn3',\n",
              "       'Pisces tweets need to get better because most the tweets make me sound like a total emotional catastrophe.',\n",
              "       '@runner_joy yes; especially new clients that walk in and think a wart is an emergency.',\n",
              "       \"Imagine having KP AND Root.... We'd demolish everyone\",\n",
              "       'Mind blown by @GlassAnimals slithering viscous Gold Mine (cover of Yeah Yeah Yeahs + Erykah Badu)\\x89Û_ http://t.co/7Zb9gm5z0h',\n",
              "       '#HungerArticles: Nepal: Rebuilding Lives and Livelihoods After Quake Devastation http://t.co/LROuWjMbIx',\n",
              "       \"Progressive greetings!\\n\\nIn about a month students would have set their pens ablaze in The Torch Publications'... http://t.co/9FxPiXQuJt\",\n",
              "       'Aashiqui Actress Anu Aggarwal On Her Near-Fatal Accident http://t.co/6Otfp31LqW',\n",
              "       '133 N past  the 5 L lane is reopened. All other lanes are closed. All lanes are open on the 133 S. Trash truck fire cleanup. @KNX1070',\n",
              "       'This cop seriously just turned on their siren to get through traffic and turned it right back off like wtf',\n",
              "       \"@RachelRofe tired it' 5:36 am. Woke up to a thunderstorm lightning and rain. How are you?\",\n",
              "       'European Fitba till Christmas  ARMAGEDDON',\n",
              "       \"'The way you move is like a full on rainstorm and I'm a house of cards'\",\n",
              "       'A change in the State fire code prohibits grills on decks at condos and apartment buildings.  Check with your... http://t.co/KE1ZS6NAml',\n",
              "       'Unexercised honda run-down neighborhood desolate: PSqD',\n",
              "       'Them shootas be so hungry with bodies on they burner ??',\n",
              "       'Flood: Two people dead 60 houses destroyed in Kaduna: Two people have been reportedly killed and 60 houses ut... http://t.co/BDsgF1CfaX',\n",
              "       \"@5hvzlaRadio Love what you picked! We're playing WORTH IT by FIFTH HARM/KID INK because of you! Listen &amp; Vote: http://t.co/0wrATkA2jL\",\n",
              "       '@MichaelWestBiz standard damage control',\n",
              "       '320 [IR] ICEMOON [AFTERSHOCK] | http://t.co/THyzOMVWU0 | @djicemoon | #Dubstep #TrapMusic #DnB #EDM #Dance #Ices\\x89Û_ http://t.co/83jOO0xk29',\n",
              "       'forever drowning in my feelings.',\n",
              "       'Nuclear #Solar Power #Japanese #Fukushima Reactor Energy Japan Temperature No. Fuel Pool More  http://t.co/YS3nMwWyVc http://t.co/AlpotNB7q3',\n",
              "       'Obama Declares Disaster for Typhoon-Devastated Saipan: Obama signs disaster declaration for Northern Marians a... http://t.co/PC8BvufLFJ',\n",
              "       'New Giant Flames (Giant Manly Brown) info/order sms:087809233445 pin:2327564d http://t.co/T1mBw0ia3o  http://t.co/CLfa0PY5Lm',\n",
              "       'nothing surprises me anymore and i am sure there is more to come... http://t.co/zdpvQmEezS',\n",
              "       'Malaysia seem more certain than France.\\n\\nPlane debris is from missing MH370 http://t.co/eXZnmxbINJ',\n",
              "       \"A look at state actions a year after Ferguson's upheaval http://t.co/GZEkQWzijq\",\n",
              "       'The Municipal Emergency Plan is now in effect. Stay safe everyone! #abstorm #yyc http://t.co/14CIcptKNa',\n",
              "       \"A Look at State Actions a Year After #Ferguson's Upheaval http://t.co/qwSbVfLPE1\",\n",
              "       'åÈMGN-AFRICAå¨ pin:263789F4 åÈ Correction: Tent Collapse Story: Correction: Tent Collapse story åÈ http://t.co/fDJUYvZMrv @wizkidayo',\n",
              "       'I liked a @YouTube video from @vgbootcamp http://t.co/yi3OiVK2X4 S@X 109 - sN | vaBengal (ZSS) Vs. SWS | Fatality (Captain Falcon)',\n",
              "       '@MasochisticMage + catastrophe! It caused people to get reckless and the bottom line is that at least three of your friends will have +',\n",
              "       'Her curfew will start right after her private class ends. Tutor must a woman preferably someone over 50.',\n",
              "       'Obama Keeps 27 Iraqi Christian Asylum Seekers nDetention While Flooding U.S. w/Unscreened Muslims: http://t.co/b4k0R4GgA8 via @DCClothesline',\n",
              "       '@HGF52611 Uh huh. You only have to be burned once to know fire hurts. Robbie Ross should throw home run derby in the All Star Game #RedSox',\n",
              "       \"I never knew about the relationship btwn Kansas City Hyatt bridge collapse &amp; AIA's COTE.   http://t.co/ThS9IqSWP3 via @HuffPostArts\",\n",
              "       'How standardized tests harm children of color and what we can do about it http://t.co/iD667rlEts Via @ParentsAcrossAm cc: @billgates',\n",
              "       'How is it one careless match can start a forest fire but it takes a whole box to start a campfire?',\n",
              "       'That moment when ur about to win a mini uhc and than get blown up by a creeper and get kicked for flying..... So salty rn...!!!??',\n",
              "       \"If you're bored with life if you don't get up every morning with a burning desire to do things - you don't have enough goals. -Lou Holtz\",\n",
              "       'Now Playing: Landslide by Smashing Pumpkins http://t.co/7pQS4rshHb #89X',\n",
              "       \"@alexandrapullin It is indeed. If the apocalypse comes this week I know where I'll be :)\",\n",
              "       'Well me and dad survived my driving ????????',\n",
              "       'WPRI 12 Eyewitness News Rhode Island set to modernize its voting equipment WPRI 12 Eyewitness\\x89Û_ http://t.co/aP9JBrPmQg',\n",
              "       'I hate that Im so awkward and I ruin things',\n",
              "       'im feeling attacked http://t.co/91jvYCxXVi',\n",
              "       '#MrRobinson is giving me #TheSteveHarveyShow vibe. Music teacher looks out for students has crush on girl he went to high school with. ??',\n",
              "       'Crackdown 3 Destruction Restricted to Multiplayer: Crackdown 3 impressed earlier this week with a demonstratio... http://t.co/gwESgesZxV',\n",
              "       \"Some days I drown in my tears but I don't let it get me down\",\n",
              "       'Haley Lu Richardson Fights for Water in The Last Survivors (Review) http://t.co/oObSCFOKtQ',\n",
              "       '#SirensIcebreaker What is one fantasy work about a diverse heroine that you think everyone should read? https://t.co/HplJUr0OBo',\n",
              "       \"Dr. Owen says four of Ferrell's ten bullet wounds were 'rapidly lethal' #KerrickTrial #TWCNewsCLT http://t.co/nNBEXhKlHr\",\n",
              "       \"@ushiocomics I may be panicking a little I wasn't as fast submitting the form as I usually am\",\n",
              "       'Indeed!! I am fully aware of that battle! I support you in that fight!!  https://t.co/MctJnZX4H8',\n",
              "       '10News ? Water main break disrupts trolley service http://t.co/pAug7a68i0',\n",
              "       \"The 'twins' survived their first day of high school!! They're gonna have a great year!! #makinmemories 2015 http://t.co/gM8p0Bd8Mt\",\n",
              "       'Joe Landolina: This gel can make you stop bleeding instantly http://t.co/0BtnIwAgt1 #arizona #realestate http://t.co/hHZY3oqeLa',\n",
              "       'Come and join us Tomorrow!\\nAugust 7 2015 at Transcend:Blazing the Trail to the Diversified World of Marketing... http://t.co/NR1I8Qnao1',\n",
              "       '@silverstar58200 I felt bad for Romero. He cared but mental stuff sunk his career. I worry same thing will happen to Hutch. #BlueJays',\n",
              "       \"Men escape car engulfed in flames in Parley's Canyon crews investigating cause - http://t.co/YfAVSuOgvl http://t.co/ISI1rLLCt0\",\n",
              "       'Crackdown 3 Destruction Restricted to Multiplayer: Crackdown 3 impressed earlier this week with a demonstratio... http://t.co/LMWKjsYCgj',\n",
              "       \"@DestinyTheGame @Bungie @PlayStation Getting kicked out by that crash is one of the worst experiences I've had playing video games.\",\n",
              "       'Police officer wounded suspect dead after exchanging shots: RICHMOND Va. (AP) \\x89ÛÓ A Richmond police officer wa... http://t.co/Y0qQS2L7bS',\n",
              "       \"Russian 'food crematoria' provoke outrage amid crisis famine memories http://t.co/O4xLjnaV8F\",\n",
              "       '0nPzp mhtw4fnet\\n\\nOfficials: Alabama Home Quarantined Over Possible Ebola Case - ABC News',\n",
              "       'The Latest: More homes razed by Northern California wildfire: The latest on wildfires burning in California and\\x89Û_ http://t.co/0Keh2TReNy',\n",
              "       'New evacuation ordered for 25 homes in danger of Hwy. 8 fire near Roosevelt Wash. http://t.co/SQsyUeh4yI #KOIN6News http://t.co/199t7ND0pm',\n",
              "       'THIS IS RELAXING! #thunder #SoothMySlumber #WATERMELOANN #populardemand w/ @Soak... (Vine by @thewebbeffect19) https://t.co/F0QIRS5lJA',\n",
              "       \"Did you know @lilithsaintcrow had a new release this week? BLOOD CALL  'An ancient evil has been trapped...' http://t.co/eSwNSetFtf \\x89Û_\",\n",
              "       '@afterShock_DeLo scuf ps live and the game... cya',\n",
              "       '@roughdeal1 ante hudhud cyclone Chandrababu Valle ne ante Ga?',\n",
              "       'Refugio oil spill may have been costlier bigger than projected http://t.co/gtHddzAvhg #LosAngelesTimes #latimes #news',\n",
              "       '#helpme what do I do? My friend has been ticketed by Police in Wayne County Michigan into never- sending poverty cycle. How do I help him?',\n",
              "       \"'She tasted like a feast after a famine. And he was starving.' TRUSTING JACK @writes4coffee http://t.co/sTo58qa94c #IARTG #RWA #tw4rw #RRBC\",\n",
              "       \"What's missing in the #asae15 exhibitor emails? Value. http://t.co/r8cepRqxlE #assnchat\",\n",
              "       'Toddler drowned in bath after mum left room to fetch his pyjamas http://t.co/k9aSKtwXfL',\n",
              "       '#ClimateChange Eyewitness to Extreme Weather: 11 Social Media Posts that Show Just How Crazy Things A... http://t.co/czpDn9oBiT #Anarchy',\n",
              "       'Ancient Mayan Tablet with Hieroglyphics Honors Lowly King http://t.co/xh4dZ1gpyw http://t.co/g0hsyH7YaV',\n",
              "       'I liked a @YouTube video http://t.co/FX7uZZXtE4 Benedict Cumberbatch Gets Video Bombed',\n",
              "       '@Justin_Ling I promise not to tax pancakes or rainbows or not dying in a fire.',\n",
              "       \"Neighbor kids stopped to watch me play Disney's I Lava You song on my uke. Left as I got into Journey's Don't Stop Believing #kidsthesedays\",\n",
              "       'My head exploded i swear',\n",
              "       '@emmerdale can we have a public vote for the next annual village disaster?  i want an isis strike or a nuclear accident &amp; end this forever',\n",
              "       'A STRONG THUNDERSTORM WILL AFFECT CENTRAL HALIFAX COUNTY THROUGH 1145 PM EDT for Halifax [VA] till 11:45 PM EDT http://t.co/MjSTefgGU5',\n",
              "       'Shoot shit up till we see body bags',\n",
              "       'On I-405 southbound at Coal Creek Pkwy there is a collision blocking the center lane.',\n",
              "       'Swiss Kosher Hotel Bridge Collapse Injures Five People - http://t.co/TxIestoX5n @JewishPress',\n",
              "       'I just heard a really loud bang and everyone is asleep great',\n",
              "       \"That's the ultimate road to destruction\",\n",
              "       '@SetZorah dad why dont you claim me that mean that not right we look the same same eyes same blood same xbox 360 SMH -.-',\n",
              "       'FedEx will no longer transport bioterror pathogens in wake of anthrax lab mishaps http://t.co/lHpgxc4b8J',\n",
              "       'Crack in the path where I wiped out this morning during beach run. Surface wounds on left elbow and right knee. http://t.co/yaqRSximph',\n",
              "       'I liked a @YouTube video from @dannyonpc http://t.co/AAuIzGGc9Q Battlefield Hardline - 11 NEW WEAPONS - New map - Throwingknifes!'],\n",
              "      dtype=object)"
            ]
          },
          "metadata": {},
          "execution_count": 31
        }
      ]
    },
    {
      "cell_type": "code",
      "metadata": {
        "id": "f6Og0Gr7piMO"
      },
      "source": [
        "# Function to evaluate: accuracy, precision, recall, f1-score\n",
        "from sklearn.metrics import accuracy_score, precision_recall_fscore_support\n",
        "\n",
        "def calculate_results(y_true, y_pred):\n",
        "  \"\"\"\n",
        "  Calculates model accuracy, precision, recall and f1 score of a binary classification model.\n",
        "\n",
        "  Args:\n",
        "  -----\n",
        "  y_true = true labels in the form of a 1D array\n",
        "  y_pred = predicted labels in the form of a 1D array\n",
        "\n",
        "  Returns a dictionary of accuracy, precision, recall, f1-score.\n",
        "  \"\"\"\n",
        "  # Calculate model accuracy\n",
        "  model_accuracy = accuracy_score(y_true, y_pred) * 100\n",
        "  # Calculate model precision, recall and f1 score using \"weighted\" average\n",
        "  model_precision, model_recall, model_f1, _ = precision_recall_fscore_support(y_true, y_pred, average=\"weighted\")\n",
        "  model_results = {\"accuracy\": model_accuracy,\n",
        "                  \"precision\": model_precision,\n",
        "                  \"recall\": model_recall,\n",
        "                  \"f1\": model_f1}\n",
        "  return model_results"
      ],
      "execution_count": 32,
      "outputs": []
    },
    {
      "cell_type": "code",
      "metadata": {
        "colab": {
          "base_uri": "https://localhost:8080/"
        },
        "id": "D0J3XoLbp8TU",
        "outputId": "4c410d7c-6108-4a82-dc29-763f1d5e9e10"
      },
      "source": [
        "# Get baseline results\n",
        "baseline_results = calculate_results(y_true=val_labels,\n",
        "                                     y_pred=baseline_preds)\n",
        "baseline_results"
      ],
      "execution_count": 33,
      "outputs": [
        {
          "output_type": "execute_result",
          "data": {
            "text/plain": [
              "{'accuracy': 79.26509186351706,\n",
              " 'f1': 0.7862189758049549,\n",
              " 'precision': 0.8111390004213173,\n",
              " 'recall': 0.7926509186351706}"
            ]
          },
          "metadata": {},
          "execution_count": 33
        }
      ]
    },
    {
      "cell_type": "code",
      "metadata": {
        "id": "UJHI7hqsp8Is"
      },
      "source": [
        "# Create tensorboard callback (need to create a new one for each model)\n",
        "from helper_functions import create_tensorboard_callback\n",
        "\n",
        "# Create directory to save TensorBoard logs\n",
        "SAVE_DIR = \"model_logs\""
      ],
      "execution_count": 34,
      "outputs": []
    },
    {
      "cell_type": "code",
      "metadata": {
        "id": "8EF0sipbq6j-"
      },
      "source": [
        "# Build model with the Functional API\n",
        "from tensorflow.keras import layers\n",
        "inputs = layers.Input(shape=(1,), dtype=\"string\") # inputs are 1-dimensional strings\n",
        "x = text_vectorizer(inputs) # turn the input text into numbers\n",
        "x = embedding(x) # create an embedding of the numerized numbers\n",
        "x = layers.GlobalAveragePooling1D()(x) # lower the dimensionality of the embedding (try running the model without this layer and see what happens)\n",
        "outputs = layers.Dense(1, activation=\"sigmoid\")(x) # create the output layer, want binary outputs so use sigmoid activation\n",
        "model_1 = tf.keras.Model(inputs, outputs, name=\"model_1_dense\") # construct the model"
      ],
      "execution_count": 35,
      "outputs": []
    },
    {
      "cell_type": "code",
      "metadata": {
        "colab": {
          "base_uri": "https://localhost:8080/"
        },
        "id": "H-kImMcjwIa7",
        "outputId": "787e04c1-3395-4598-8d18-8ed55ee4d652"
      },
      "source": [
        "inputs \n"
      ],
      "execution_count": 39,
      "outputs": [
        {
          "output_type": "execute_result",
          "data": {
            "text/plain": [
              "<KerasTensor: shape=(None, 1) dtype=string (created by layer 'input_2')>"
            ]
          },
          "metadata": {},
          "execution_count": 39
        }
      ]
    },
    {
      "cell_type": "code",
      "metadata": {
        "id": "9XQYKHjFq6f_"
      },
      "source": [
        "# Compile model\n",
        "model_1.compile(loss=\"binary_crossentropy\",\n",
        "                optimizer=tf.keras.optimizers.Adam(),\n",
        "                metrics=[\"accuracy\"])"
      ],
      "execution_count": 36,
      "outputs": []
    },
    {
      "cell_type": "code",
      "metadata": {
        "colab": {
          "base_uri": "https://localhost:8080/"
        },
        "id": "ph8vZbfsq6a3",
        "outputId": "2b8be1dd-d1b4-44b0-9596-ce88be673735"
      },
      "source": [
        "# Get a summary of the model\n",
        "model_1.summary()"
      ],
      "execution_count": 37,
      "outputs": [
        {
          "output_type": "stream",
          "name": "stdout",
          "text": [
            "Model: \"model_1_dense\"\n",
            "_________________________________________________________________\n",
            "Layer (type)                 Output Shape              Param #   \n",
            "=================================================================\n",
            "input_1 (InputLayer)         [(None, 1)]               0         \n",
            "_________________________________________________________________\n",
            "text_vectorization_1 (TextVe (None, 15)                0         \n",
            "_________________________________________________________________\n",
            "embedding_1 (Embedding)      (None, 15, 128)           1280000   \n",
            "_________________________________________________________________\n",
            "global_average_pooling1d (Gl (None, 128)               0         \n",
            "_________________________________________________________________\n",
            "dense (Dense)                (None, 1)                 129       \n",
            "=================================================================\n",
            "Total params: 1,280,129\n",
            "Trainable params: 1,280,129\n",
            "Non-trainable params: 0\n",
            "_________________________________________________________________\n"
          ]
        }
      ]
    },
    {
      "cell_type": "code",
      "metadata": {
        "colab": {
          "base_uri": "https://localhost:8080/"
        },
        "id": "xlYV5_fdq6Wb",
        "outputId": "63433cd7-2d3a-4da9-ca5b-130011f071dc"
      },
      "source": [
        "# Fit the model\n",
        "model_1_history = model_1.fit(train_sentences, # input sentences can be a list of strings due to text preprocessing layer built-in model\n",
        "                              train_labels,\n",
        "                              epochs=5,\n",
        "                              validation_data=(val_sentences, val_labels),\n",
        "                              callbacks=[create_tensorboard_callback(dir_name=SAVE_DIR, \n",
        "                                                                     experiment_name=\"simple_dense_model\")])"
      ],
      "execution_count": 40,
      "outputs": [
        {
          "output_type": "stream",
          "name": "stdout",
          "text": [
            "Saving TensorBoard log files to: model_logs/simple_dense_model/20211017-101812\n",
            "Epoch 1/5\n",
            "215/215 [==============================] - 5s 10ms/step - loss: 0.6094 - accuracy: 0.6916 - val_loss: 0.5357 - val_accuracy: 0.7572\n",
            "Epoch 2/5\n",
            "215/215 [==============================] - 2s 7ms/step - loss: 0.4410 - accuracy: 0.8189 - val_loss: 0.4691 - val_accuracy: 0.7848\n",
            "Epoch 3/5\n",
            "215/215 [==============================] - 2s 7ms/step - loss: 0.3463 - accuracy: 0.8605 - val_loss: 0.4590 - val_accuracy: 0.7900\n",
            "Epoch 4/5\n",
            "215/215 [==============================] - 2s 7ms/step - loss: 0.2848 - accuracy: 0.8923 - val_loss: 0.4641 - val_accuracy: 0.7927\n",
            "Epoch 5/5\n",
            "215/215 [==============================] - 2s 7ms/step - loss: 0.2380 - accuracy: 0.9118 - val_loss: 0.4767 - val_accuracy: 0.7874\n"
          ]
        }
      ]
    },
    {
      "cell_type": "code",
      "metadata": {
        "colab": {
          "base_uri": "https://localhost:8080/"
        },
        "id": "CuKWg1ZCq6SB",
        "outputId": "73a24c7d-d724-4d51-b441-510fb1fcf4e4"
      },
      "source": [
        "# Check the results\n",
        "model_1.evaluate(val_sentences, val_labels)"
      ],
      "execution_count": 41,
      "outputs": [
        {
          "output_type": "stream",
          "name": "stdout",
          "text": [
            "24/24 [==============================] - 0s 4ms/step - loss: 0.4767 - accuracy: 0.7874\n"
          ]
        },
        {
          "output_type": "execute_result",
          "data": {
            "text/plain": [
              "[0.4766846001148224, 0.787401556968689]"
            ]
          },
          "metadata": {},
          "execution_count": 41
        }
      ]
    },
    {
      "cell_type": "code",
      "metadata": {
        "colab": {
          "base_uri": "https://localhost:8080/"
        },
        "id": "OILRto85q6NF",
        "outputId": "45f06911-a2dc-4fb9-c1a0-35f151960c13"
      },
      "source": [
        "embedding.weights"
      ],
      "execution_count": 42,
      "outputs": [
        {
          "output_type": "execute_result",
          "data": {
            "text/plain": [
              "[<tf.Variable 'embedding_1/embeddings:0' shape=(10000, 128) dtype=float32, numpy=\n",
              " array([[ 0.00073166,  0.01504799, -0.03425453, ..., -0.04403538,\n",
              "         -0.01042281,  0.01876439],\n",
              "        [ 0.04135864, -0.03945084, -0.03811941, ...,  0.00464735,\n",
              "          0.03163554,  0.02928302],\n",
              "        [ 0.00684031,  0.05363131, -0.00241555, ..., -0.07082176,\n",
              "         -0.04750706,  0.01448254],\n",
              "        ...,\n",
              "        [-0.03301444, -0.0052493 , -0.04209725, ...,  0.02028764,\n",
              "          0.00308807,  0.02215792],\n",
              "        [ 0.00692343,  0.05942352, -0.01975194, ..., -0.06199061,\n",
              "         -0.01018393,  0.03510419],\n",
              "        [-0.0372346 ,  0.06267187, -0.07451147, ..., -0.02367217,\n",
              "         -0.08643329,  0.01742155]], dtype=float32)>]"
            ]
          },
          "metadata": {},
          "execution_count": 42
        }
      ]
    },
    {
      "cell_type": "code",
      "metadata": {
        "colab": {
          "base_uri": "https://localhost:8080/"
        },
        "id": "toY4-H15x3G6",
        "outputId": "4ac2588f-e493-4606-ed51-c6b077ebe8ff"
      },
      "source": [
        "embed_weights = model_1.get_layer(\"embedding_1\").get_weights()[0]\n",
        "print(embed_weights.shape)"
      ],
      "execution_count": 43,
      "outputs": [
        {
          "output_type": "stream",
          "name": "stdout",
          "text": [
            "(10000, 128)\n"
          ]
        }
      ]
    },
    {
      "cell_type": "code",
      "metadata": {
        "colab": {
          "base_uri": "https://localhost:8080/"
        },
        "id": "AVWL86PFyC8Q",
        "outputId": "82c43a58-755f-44e5-8eda-5c2028190858"
      },
      "source": [
        "# Make predictions (these come back in the form of probabilities)\n",
        "model_1_pred_probs = model_1.predict(val_sentences)\n",
        "model_1_pred_probs[:10] # only print out the first 10 prediction probabilities"
      ],
      "execution_count": 44,
      "outputs": [
        {
          "output_type": "execute_result",
          "data": {
            "text/plain": [
              "array([[0.4048821 ],\n",
              "       [0.7443312 ],\n",
              "       [0.997895  ],\n",
              "       [0.10889997],\n",
              "       [0.11143532],\n",
              "       [0.93556094],\n",
              "       [0.91345936],\n",
              "       [0.9925345 ],\n",
              "       [0.97156817],\n",
              "       [0.26570338]], dtype=float32)"
            ]
          },
          "metadata": {},
          "execution_count": 44
        }
      ]
    },
    {
      "cell_type": "code",
      "metadata": {
        "colab": {
          "base_uri": "https://localhost:8080/"
        },
        "id": "3Q1D0W7hyC2X",
        "outputId": "76397a3c-3658-4dab-dc19-6be6c404c11d"
      },
      "source": [
        "# Turn prediction probabilities into single-dimension tensor of floats\n",
        "model_1_preds = tf.squeeze(tf.round(model_1_pred_probs)) # squeeze removes single dimensions\n",
        "model_1_preds[:20]"
      ],
      "execution_count": 45,
      "outputs": [
        {
          "output_type": "execute_result",
          "data": {
            "text/plain": [
              "<tf.Tensor: shape=(20,), dtype=float32, numpy=\n",
              "array([0., 1., 1., 0., 0., 1., 1., 1., 1., 0., 0., 1., 0., 0., 0., 0., 0.,\n",
              "       0., 0., 1.], dtype=float32)>"
            ]
          },
          "metadata": {},
          "execution_count": 45
        }
      ]
    },
    {
      "cell_type": "code",
      "metadata": {
        "colab": {
          "base_uri": "https://localhost:8080/"
        },
        "id": "nPKEfpifyCrT",
        "outputId": "ecaff1a4-fde2-4067-a185-b1364faeaf10"
      },
      "source": [
        "# Calculate model_1 metrics\n",
        "model_1_results = calculate_results(y_true=val_labels, \n",
        "                                    y_pred=model_1_preds)\n",
        "model_1_results"
      ],
      "execution_count": 47,
      "outputs": [
        {
          "output_type": "execute_result",
          "data": {
            "text/plain": [
              "{'accuracy': 78.74015748031496,\n",
              " 'f1': 0.7846966492209201,\n",
              " 'precision': 0.7914920592553047,\n",
              " 'recall': 0.7874015748031497}"
            ]
          },
          "metadata": {},
          "execution_count": 47
        }
      ]
    },
    {
      "cell_type": "code",
      "metadata": {
        "colab": {
          "base_uri": "https://localhost:8080/"
        },
        "id": "HmPJaufzyClV",
        "outputId": "edde7ae9-8428-4f16-c4f8-082f35dd2bee"
      },
      "source": [
        "# Is our simple Keras model better than our baseline model?\n",
        "import numpy as np\n",
        "np.array(list(model_1_results.values())) > np.array(list(baseline_results.values()))"
      ],
      "execution_count": 48,
      "outputs": [
        {
          "output_type": "execute_result",
          "data": {
            "text/plain": [
              "array([False, False, False, False])"
            ]
          },
          "metadata": {},
          "execution_count": 48
        }
      ]
    },
    {
      "cell_type": "code",
      "metadata": {
        "colab": {
          "base_uri": "https://localhost:8080/"
        },
        "id": "MVJYeQApyCfk",
        "outputId": "e8274ee8-050f-4f55-d47b-612bca0fe69e"
      },
      "source": [
        "np.array(list(model_1_results.values()))"
      ],
      "execution_count": 49,
      "outputs": [
        {
          "output_type": "execute_result",
          "data": {
            "text/plain": [
              "array([78.74015748,  0.79149206,  0.78740157,  0.78469665])"
            ]
          },
          "metadata": {},
          "execution_count": 49
        }
      ]
    },
    {
      "cell_type": "code",
      "metadata": {
        "id": "kQN2UHFOyCZw"
      },
      "source": [
        ""
      ],
      "execution_count": null,
      "outputs": []
    }
  ]
}